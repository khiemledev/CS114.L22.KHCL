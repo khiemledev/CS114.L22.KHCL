{
  "nbformat": 4,
  "nbformat_minor": 0,
  "metadata": {
    "colab": {
      "name": "Colab assignment Crawl data",
      "provenance": [],
      "collapsed_sections": []
    },
    "kernelspec": {
      "name": "python3",
      "display_name": "Python 3"
    },
    "language_info": {
      "name": "python"
    }
  },
  "cells": [
    {
      "cell_type": "markdown",
      "metadata": {
        "id": "Rgf9lp9lk9T9"
      },
      "source": [
        "# Bài tập crawl dữ liệu scarcasm\n",
        "\n",
        "Thành viên nhóm:\n",
        "\n",
        "- Lê Trần Trọng Khiêm - 19521689\n",
        "- Trần Tiến Hưng - 19521587\n",
        "- Lê Đặng Đăng Huy - 19521612\n",
        "\n",
        "Các trang chọn crawl dữ liệu:\n",
        "- Sarcasm:\n",
        "    - The Onion\n",
        "    - The Daily WTF\n",
        "    - Walking Eagle News\n",
        "- Official:\n",
        "    - The Wall Street Journal\n",
        "    - HuffPost\n",
        "    - The Guardian"
      ]
    },
    {
      "cell_type": "markdown",
      "metadata": {
        "id": "an99R3UzlMuZ"
      },
      "source": [
        "## Cài đặt thư viện và clone source code từ Github"
      ]
    },
    {
      "cell_type": "code",
      "metadata": {
        "id": "7dDHBNRFHiSy"
      },
      "source": [
        "!pip install scrapy"
      ],
      "execution_count": null,
      "outputs": []
    },
    {
      "cell_type": "code",
      "metadata": {
        "colab": {
          "base_uri": "https://localhost:8080/"
        },
        "id": "Y4KME46PHG03",
        "outputId": "a9674427-0859-43a0-bd29-d3e3ba5d7752"
      },
      "source": [
        "!git clone https://github.com/khiemledev/CS114.L22.KHCL.git"
      ],
      "execution_count": 2,
      "outputs": [
        {
          "output_type": "stream",
          "text": [
            "Cloning into 'CS114.L22.KHCL'...\n",
            "remote: Enumerating objects: 124, done.\u001b[K\n",
            "remote: Counting objects: 100% (124/124), done.\u001b[K\n",
            "remote: Compressing objects: 100% (106/106), done.\u001b[K\n",
            "remote: Total 124 (delta 42), reused 52 (delta 10), pack-reused 0\u001b[K\n",
            "Receiving objects: 100% (124/124), 5.18 MiB | 6.62 MiB/s, done.\n",
            "Resolving deltas: 100% (42/42), done.\n"
          ],
          "name": "stdout"
        }
      ]
    },
    {
      "cell_type": "code",
      "metadata": {
        "colab": {
          "base_uri": "https://localhost:8080/"
        },
        "id": "Cwg1lvWTHOT4",
        "outputId": "61965f72-d7cb-4868-ce39-ef8690820ffb"
      },
      "source": [
        "%cd ./CS114.L22.KHCL/Assignment/7-6-2021/headlinesbot/"
      ],
      "execution_count": 3,
      "outputs": [
        {
          "output_type": "stream",
          "text": [
            "/content/CS114.L22.KHCL/Assignment/7-6-2021/headlinesbot\n"
          ],
          "name": "stdout"
        }
      ]
    },
    {
      "cell_type": "markdown",
      "metadata": {
        "id": "2NHx5-Z-lSH4"
      },
      "source": [
        "## Tạo thư mục cần thiết cho ouptut và thực hiện crawl dữ liệu"
      ]
    },
    {
      "cell_type": "code",
      "metadata": {
        "id": "gRIm6xqdHrtT"
      },
      "source": [
        "import os\n",
        "if not os.path.exists('crawled_data'):\n",
        "    os.makedirs('crawled_data')\n",
        "if not os.path.exists('crawled_data/official'):\n",
        "    os.makedirs('crawled_data/official')\n",
        "if not os.path.exists('crawled_data/sarcasm'):\n",
        "    os.makedirs('crawled_data/sarcasm')"
      ],
      "execution_count": 4,
      "outputs": []
    },
    {
      "cell_type": "code",
      "metadata": {
        "id": "xmBCPAHWIXAu"
      },
      "source": [
        "!scrapy crawl thedailywtf -O crawled_data/sarcasm/thedailywtf.json --nolog"
      ],
      "execution_count": 5,
      "outputs": []
    },
    {
      "cell_type": "code",
      "metadata": {
        "id": "97bgSfvCIYvC"
      },
      "source": [
        "!scrapy crawl theonion -O crawled_data/sarcasm/theonion.json --nolog"
      ],
      "execution_count": 6,
      "outputs": []
    },
    {
      "cell_type": "code",
      "metadata": {
        "id": "daxlnDA5IZDn"
      },
      "source": [
        "!scrapy crawl walkingeaglenews -O crawled_data/sarcasm/walkingeaglenews.json --nolog"
      ],
      "execution_count": 7,
      "outputs": []
    },
    {
      "cell_type": "code",
      "metadata": {
        "id": "CESsnfM5IZVI"
      },
      "source": [
        "!scrapy crawl theguardian -O crawled_data/official/theguardian.json --nolog"
      ],
      "execution_count": 8,
      "outputs": []
    },
    {
      "cell_type": "code",
      "metadata": {
        "id": "ojuG3l48IZiK"
      },
      "source": [
        "!scrapy crawl huffpost -O crawled_data/official/huffpost.json --nolog"
      ],
      "execution_count": 9,
      "outputs": []
    },
    {
      "cell_type": "code",
      "metadata": {
        "id": "aprZNbR5YNGp"
      },
      "source": [
        "import pandas as pd\n",
        "data = pd.read_json('crawled_data/official/huffpost.json')"
      ],
      "execution_count": 10,
      "outputs": []
    },
    {
      "cell_type": "code",
      "metadata": {
        "colab": {
          "base_uri": "https://localhost:8080/",
          "height": 195
        },
        "id": "WelNQ0d7YWHN",
        "outputId": "685e4539-3a89-48fa-aff7-6ce704ef99db"
      },
      "source": [
        "data.head()"
      ],
      "execution_count": 11,
      "outputs": [
        {
          "output_type": "execute_result",
          "data": {
            "text/html": [
              "<div>\n",
              "<style scoped>\n",
              "    .dataframe tbody tr th:only-of-type {\n",
              "        vertical-align: middle;\n",
              "    }\n",
              "\n",
              "    .dataframe tbody tr th {\n",
              "        vertical-align: top;\n",
              "    }\n",
              "\n",
              "    .dataframe thead th {\n",
              "        text-align: right;\n",
              "    }\n",
              "</style>\n",
              "<table border=\"1\" class=\"dataframe\">\n",
              "  <thead>\n",
              "    <tr style=\"text-align: right;\">\n",
              "      <th></th>\n",
              "      <th>is_sarcastic</th>\n",
              "      <th>headline</th>\n",
              "      <th>article_link</th>\n",
              "    </tr>\n",
              "  </thead>\n",
              "  <tbody>\n",
              "    <tr>\n",
              "      <th>0</th>\n",
              "      <td>0</td>\n",
              "      <td>Biden Shutters Trump-Era Office For Crimes All...</td>\n",
              "      <td>https://www.huffpost.com/entry/biden-dismantle...</td>\n",
              "    </tr>\n",
              "    <tr>\n",
              "      <th>1</th>\n",
              "      <td>0</td>\n",
              "      <td>Dog Ejected From Car Crash Found Safe On Farm ...</td>\n",
              "      <td>https://www.huffpost.com/entry/dog-car-crash-h...</td>\n",
              "    </tr>\n",
              "    <tr>\n",
              "      <th>2</th>\n",
              "      <td>0</td>\n",
              "      <td>Biden Urges G-7 Leaders To Call Out, Compete W...</td>\n",
              "      <td>https://www.huffpost.com/entry/biden-urges-g-7...</td>\n",
              "    </tr>\n",
              "    <tr>\n",
              "      <th>3</th>\n",
              "      <td>0</td>\n",
              "      <td>Kip Kinkel Is Ready To Speak</td>\n",
              "      <td>https://www.huffpost.com/entry/kip-kinkel-is-r...</td>\n",
              "    </tr>\n",
              "    <tr>\n",
              "      <th>4</th>\n",
              "      <td>0</td>\n",
              "      <td>Michaela Coel Dedicates 'I May Destroy You' Wi...</td>\n",
              "      <td>https://www.huffpost.com/entry/michaela-coel-d...</td>\n",
              "    </tr>\n",
              "  </tbody>\n",
              "</table>\n",
              "</div>"
            ],
            "text/plain": [
              "   is_sarcastic  ...                                       article_link\n",
              "0             0  ...  https://www.huffpost.com/entry/biden-dismantle...\n",
              "1             0  ...  https://www.huffpost.com/entry/dog-car-crash-h...\n",
              "2             0  ...  https://www.huffpost.com/entry/biden-urges-g-7...\n",
              "3             0  ...  https://www.huffpost.com/entry/kip-kinkel-is-r...\n",
              "4             0  ...  https://www.huffpost.com/entry/michaela-coel-d...\n",
              "\n",
              "[5 rows x 3 columns]"
            ]
          },
          "metadata": {
            "tags": []
          },
          "execution_count": 11
        }
      ]
    }
  ]
}