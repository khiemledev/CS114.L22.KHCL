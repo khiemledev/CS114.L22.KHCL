{
  "nbformat": 4,
  "nbformat_minor": 0,
  "metadata": {
    "colab": {
      "name": "ScorePrediction.ipynb",
      "provenance": [],
      "collapsed_sections": []
    },
    "kernelspec": {
      "name": "python3",
      "display_name": "Python 3"
    },
    "language_info": {
      "name": "python"
    }
  },
  "cells": [
    {
      "cell_type": "markdown",
      "metadata": {
        "id": "OecodjAh6MtO"
      },
      "source": [
        "# Bài tập Colab: Dự đoán điểm cuối kỳ của sinh viên thông qua việc nộp bài tập Wecode\n",
        "\n",
        "Thành viên:\n",
        "- Lê Trần Trọng Khiêm - 19521689\n",
        "- Trần Tiến Hưng - 19521587\n",
        "- Lê Đặng Đăng Huy - 19521612\n",
        "\n",
        "Các mục dưới đây là copy lại từ bài colab vẽ scatter plot trước."
      ]
    },
    {
      "cell_type": "markdown",
      "metadata": {
        "id": "0vxjq3f26nL6"
      },
      "source": [
        "## Download và load dữ liệu bằng pandas"
      ]
    },
    {
      "cell_type": "markdown",
      "metadata": {
        "id": "RooYNic36wSR"
      },
      "source": [
        "Import thư viện cần thiết"
      ]
    },
    {
      "cell_type": "code",
      "metadata": {
        "id": "bquHm7VE54lu"
      },
      "source": [
        "import pandas as pd\n",
        "import numpy as np\n",
        "import matplotlib.pyplot as plt"
      ],
      "execution_count": 602,
      "outputs": []
    },
    {
      "cell_type": "markdown",
      "metadata": {
        "id": "y8lKPnbO7DF_"
      },
      "source": [
        "Tải dữ liệu từ Google Drive"
      ]
    },
    {
      "cell_type": "code",
      "metadata": {
        "colab": {
          "base_uri": "https://localhost:8080/"
        },
        "id": "TV3TGIuk7gsS",
        "outputId": "40f24b4d-4d3a-49a8-fcd8-66b1147e3748"
      },
      "source": [
        "!gdown --id 1OP3vs6PYcC9Of0LTBakOmwLnXO4NEtF2"
      ],
      "execution_count": 603,
      "outputs": [
        {
          "output_type": "stream",
          "text": [
            "Downloading...\n",
            "From: https://drive.google.com/uc?id=1OP3vs6PYcC9Of0LTBakOmwLnXO4NEtF2\n",
            "To: /content/score_training.csv\n",
            "\r  0% 0.00/23.9k [00:00<?, ?B/s]\r100% 23.9k/23.9k [00:00<00:00, 42.4MB/s]\n"
          ],
          "name": "stdout"
        }
      ]
    },
    {
      "cell_type": "code",
      "metadata": {
        "colab": {
          "base_uri": "https://localhost:8080/"
        },
        "id": "3r03_Ln97xrv",
        "outputId": "7819156b-4406-4c84-971c-d458918688cf"
      },
      "source": [
        "!gdown --id 1Zwvd4V1p63PTX3G1fwr0jyGkT8pXZHRO"
      ],
      "execution_count": 604,
      "outputs": [
        {
          "output_type": "stream",
          "text": [
            "Downloading...\n",
            "From: https://drive.google.com/uc?id=1Zwvd4V1p63PTX3G1fwr0jyGkT8pXZHRO\n",
            "To: /content/wecode.csv\n",
            "30.8MB [00:00, 144MB/s]\n"
          ],
          "name": "stdout"
        }
      ]
    },
    {
      "cell_type": "markdown",
      "metadata": {
        "id": "V_3B0Zd-70lh"
      },
      "source": [
        "Load dữ liệu với pandas"
      ]
    },
    {
      "cell_type": "code",
      "metadata": {
        "id": "55c4IxVg73N7"
      },
      "source": [
        "wecode = pd.read_csv('wecode.csv')\n",
        "score = pd.read_csv('score_training.csv', na_values=['\\xa0'])"
      ],
      "execution_count": 605,
      "outputs": []
    },
    {
      "cell_type": "code",
      "metadata": {
        "colab": {
          "base_uri": "https://localhost:8080/"
        },
        "id": "HBwM5Qwi8F_-",
        "outputId": "de4a39fb-5672-4464-faec-18fba5e2e975"
      },
      "source": [
        "wecode.info()"
      ],
      "execution_count": 606,
      "outputs": [
        {
          "output_type": "stream",
          "text": [
            "<class 'pandas.core.frame.DataFrame'>\n",
            "RangeIndex: 264606 entries, 0 to 264605\n",
            "Data columns (total 12 columns):\n",
            " #   Column         Non-Null Count   Dtype \n",
            "---  ------         --------------   ----- \n",
            " 0   id             264606 non-null  int64 \n",
            " 1   assignment_id  264606 non-null  int64 \n",
            " 2   problem_id     264606 non-null  int64 \n",
            " 3   user_id        264606 non-null  int64 \n",
            " 4   is_final       264606 non-null  int64 \n",
            " 5   status         264605 non-null  object\n",
            " 6   pre_score      264606 non-null  int64 \n",
            " 7   coefficient    264606 non-null  object\n",
            " 8   file_name      264606 non-null  object\n",
            " 9   language_id    264606 non-null  int64 \n",
            " 10  created_at     264606 non-null  object\n",
            " 11  updated_at     264606 non-null  object\n",
            "dtypes: int64(7), object(5)\n",
            "memory usage: 24.2+ MB\n"
          ],
          "name": "stdout"
        }
      ]
    },
    {
      "cell_type": "code",
      "metadata": {
        "colab": {
          "base_uri": "https://localhost:8080/"
        },
        "id": "mkLi25fN8HrV",
        "outputId": "388e9efb-2b4c-411c-e6bb-093c4fa5ff50"
      },
      "source": [
        "score.info()"
      ],
      "execution_count": 607,
      "outputs": [
        {
          "output_type": "stream",
          "text": [
            "<class 'pandas.core.frame.DataFrame'>\n",
            "RangeIndex: 975 entries, 0 to 974\n",
            "Data columns (total 7 columns):\n",
            " #   Column  Non-Null Count  Dtype  \n",
            "---  ------  --------------  -----  \n",
            " 0   id      975 non-null    int64  \n",
            " 1   QT      891 non-null    float64\n",
            " 2   GK      836 non-null    float64\n",
            " 3   TH      892 non-null    float64\n",
            " 4   CK      920 non-null    float64\n",
            " 5   TBM     786 non-null    float64\n",
            " 6   TBTL    972 non-null    float64\n",
            "dtypes: float64(6), int64(1)\n",
            "memory usage: 53.4 KB\n"
          ],
          "name": "stdout"
        }
      ]
    },
    {
      "cell_type": "markdown",
      "metadata": {
        "id": "R-L_-uE-8Sau"
      },
      "source": [
        "## Tính toán các thông số có thể ảnh hưởng đến điểm cuối kỳ"
      ]
    },
    {
      "cell_type": "markdown",
      "metadata": {
        "id": "hVPEaF5F9jwm"
      },
      "source": [
        "Các thông tin trong file wecode nếu để nguyên như vậy sẽ không thể thấy được mối liên hệ giữa nó với điểm cuối kỳ. Mình sẽ cần tính các thông số sau:\n",
        "\n",
        "- Tổng số problem đã solved (is_final = 1 && pre_score=10000) / Tổng số problem có submit\n",
        "- Tổng số problem đã sumbit / Tổng số submissions\n",
        "- Số lần submit đúng (pre_score=10000) / tổng số submissions\n",
        "- Tổng pre_score của các submssion có is_final = 1\n",
        "- Trung bình của coefficient\n",
        "\n"
      ]
    },
    {
      "cell_type": "markdown",
      "metadata": {
        "id": "ftik1uRk_nVL"
      },
      "source": [
        "Đầu tiên cần phải kiểm tra problem đã solved chưa và đếm số các assignment, problem, submission. Problem đã solved sẽ có final = 1 và prescore = 10000"
      ]
    },
    {
      "cell_type": "code",
      "metadata": {
        "id": "deTr3R4g_0RZ"
      },
      "source": [
        "def is_solved(x):\n",
        "  if x['is_final'] == 1 and x['pre_score'] == 10000:\n",
        "    return 1\n",
        "  return 0\n",
        "\n",
        "wecode['solved'] = wecode.apply(is_solved, axis=1)\n",
        "\n",
        "no_assignment = wecode.assignment_id.nunique()\n",
        "no_problem = wecode.problem_id.nunique()\n",
        "no_submission = wecode.id.count()\n",
        "no_problem_per_assignment = no_problem / no_assignment"
      ],
      "execution_count": 608,
      "outputs": []
    },
    {
      "cell_type": "markdown",
      "metadata": {
        "id": "dcY61zc1YY3Z"
      },
      "source": [
        "Drop coefficient = error để chuyển thành kiểu số"
      ]
    },
    {
      "cell_type": "code",
      "metadata": {
        "colab": {
          "base_uri": "https://localhost:8080/"
        },
        "id": "QavxqI4AYea1",
        "outputId": "c16cba0f-5fa5-4d29-dbe1-c604ab13e84d"
      },
      "source": [
        "# Số coefficient = error\n",
        "wecode[wecode.coefficient == 'error'].id.count()"
      ],
      "execution_count": 609,
      "outputs": [
        {
          "output_type": "execute_result",
          "data": {
            "text/plain": [
              "252"
            ]
          },
          "metadata": {
            "tags": []
          },
          "execution_count": 609
        }
      ]
    },
    {
      "cell_type": "code",
      "metadata": {
        "id": "SMfokPEsYj6_"
      },
      "source": [
        "wecode = wecode[wecode.coefficient != 'error']\n",
        "wecode['coefficient'] = wecode.coefficient.astype(int)"
      ],
      "execution_count": 610,
      "outputs": []
    },
    {
      "cell_type": "markdown",
      "metadata": {
        "id": "s1rCqaAPANn9"
      },
      "source": [
        "Tiếp theo mình cần group theo user_id để thống kê"
      ]
    },
    {
      "cell_type": "code",
      "metadata": {
        "id": "eodYBCgVAIo7"
      },
      "source": [
        "df_grouped = wecode.groupby('user_id', sort=True)"
      ],
      "execution_count": 611,
      "outputs": []
    },
    {
      "cell_type": "code",
      "metadata": {
        "id": "nT9ygAPWAXXr"
      },
      "source": [
        "new_wecode = pd.DataFrame({\n",
        "    # Số assignment có submit\n",
        "    'no_assignment': df_grouped.assignment_id.nunique(),\n",
        "    # Số problem có submit\n",
        "    'no_problem': df_grouped.problem_id.nunique(),\n",
        "    # Số bài nộp\n",
        "    'no_submission': df_grouped.id.nunique(),\n",
        "    # Số problem đã solved\n",
        "    'no_solved': df_grouped.solved.apply(lambda x: (x == 1).sum()),\n",
        "    # Số lần submit đúng (pre_score =10000)\n",
        "    'no_correct_submission': df_grouped.pre_score.apply(lambda x: (x == 10000).sum()),\n",
        "    # Tổng số pre_score có final là 1\n",
        "    'sum_pre_score_final': df_grouped.apply(lambda x: x[x.is_final == 1]['pre_score'].sum()),\n",
        "    'avg_coefficient': df_grouped.coefficient.mean()\n",
        "})\n",
        "\n",
        "# Sau khi tạo dataframe thì mặc định cột đầu tiên sẽ là index,\n",
        "# do đó mình cần phải reset index (tức là cột user_id sẽ trở thành một cột bình\n",
        "# thường chứ không phải là index nữa)\n",
        "new_wecode = new_wecode.reset_index()"
      ],
      "execution_count": 612,
      "outputs": []
    },
    {
      "cell_type": "code",
      "metadata": {
        "colab": {
          "base_uri": "https://localhost:8080/",
          "height": 206
        },
        "id": "ZLpTTD08DDcB",
        "outputId": "3277a2fc-1c0e-4116-8339-429763c77eab"
      },
      "source": [
        "new_wecode.head()"
      ],
      "execution_count": 613,
      "outputs": [
        {
          "output_type": "execute_result",
          "data": {
            "text/html": [
              "<div>\n",
              "<style scoped>\n",
              "    .dataframe tbody tr th:only-of-type {\n",
              "        vertical-align: middle;\n",
              "    }\n",
              "\n",
              "    .dataframe tbody tr th {\n",
              "        vertical-align: top;\n",
              "    }\n",
              "\n",
              "    .dataframe thead th {\n",
              "        text-align: right;\n",
              "    }\n",
              "</style>\n",
              "<table border=\"1\" class=\"dataframe\">\n",
              "  <thead>\n",
              "    <tr style=\"text-align: right;\">\n",
              "      <th></th>\n",
              "      <th>user_id</th>\n",
              "      <th>no_assignment</th>\n",
              "      <th>no_problem</th>\n",
              "      <th>no_submission</th>\n",
              "      <th>no_solved</th>\n",
              "      <th>no_correct_submission</th>\n",
              "      <th>sum_pre_score_final</th>\n",
              "      <th>avg_coefficient</th>\n",
              "    </tr>\n",
              "  </thead>\n",
              "  <tbody>\n",
              "    <tr>\n",
              "      <th>0</th>\n",
              "      <td>1</td>\n",
              "      <td>1</td>\n",
              "      <td>2</td>\n",
              "      <td>2</td>\n",
              "      <td>1</td>\n",
              "      <td>1</td>\n",
              "      <td>10000</td>\n",
              "      <td>100.0</td>\n",
              "    </tr>\n",
              "    <tr>\n",
              "      <th>1</th>\n",
              "      <td>4</td>\n",
              "      <td>1</td>\n",
              "      <td>41</td>\n",
              "      <td>54</td>\n",
              "      <td>37</td>\n",
              "      <td>44</td>\n",
              "      <td>370000</td>\n",
              "      <td>100.0</td>\n",
              "    </tr>\n",
              "    <tr>\n",
              "      <th>2</th>\n",
              "      <td>5</td>\n",
              "      <td>4</td>\n",
              "      <td>5</td>\n",
              "      <td>6</td>\n",
              "      <td>3</td>\n",
              "      <td>3</td>\n",
              "      <td>30000</td>\n",
              "      <td>100.0</td>\n",
              "    </tr>\n",
              "    <tr>\n",
              "      <th>3</th>\n",
              "      <td>6</td>\n",
              "      <td>4</td>\n",
              "      <td>88</td>\n",
              "      <td>130</td>\n",
              "      <td>85</td>\n",
              "      <td>89</td>\n",
              "      <td>850000</td>\n",
              "      <td>100.0</td>\n",
              "    </tr>\n",
              "    <tr>\n",
              "      <th>4</th>\n",
              "      <td>7</td>\n",
              "      <td>1</td>\n",
              "      <td>2</td>\n",
              "      <td>5</td>\n",
              "      <td>0</td>\n",
              "      <td>0</td>\n",
              "      <td>9209</td>\n",
              "      <td>100.0</td>\n",
              "    </tr>\n",
              "  </tbody>\n",
              "</table>\n",
              "</div>"
            ],
            "text/plain": [
              "   user_id  no_assignment  ...  sum_pre_score_final  avg_coefficient\n",
              "0        1              1  ...                10000            100.0\n",
              "1        4              1  ...               370000            100.0\n",
              "2        5              4  ...                30000            100.0\n",
              "3        6              4  ...               850000            100.0\n",
              "4        7              1  ...                 9209            100.0\n",
              "\n",
              "[5 rows x 8 columns]"
            ]
          },
          "metadata": {
            "tags": []
          },
          "execution_count": 613
        }
      ]
    },
    {
      "cell_type": "markdown",
      "metadata": {
        "id": "lcJDu2CTPO9d"
      },
      "source": [
        "Sau khi có các thông số cần thiết chúng ta sẽ tiến hành tính toán các tỉ số như đã đề cập ban đầu"
      ]
    },
    {
      "cell_type": "code",
      "metadata": {
        "id": "UW99hW05D2s6"
      },
      "source": [
        "# Số problem đã solved / số problem đã submit\n",
        "new_wecode['no_solved__no_problem'] = new_wecode.no_solved / new_wecode.no_problem\n",
        "# Số probem đã submit / tổng số submission\n",
        "new_wecode['no_submission__no_submission'] = new_wecode.no_submission / no_submission\n",
        "# Số submission đúng / tổng số submission\n",
        "new_wecode['no_correct_submission__no_submission'] = new_wecode.no_correct_submission / no_submission"
      ],
      "execution_count": 614,
      "outputs": []
    },
    {
      "cell_type": "code",
      "metadata": {
        "colab": {
          "base_uri": "https://localhost:8080/",
          "height": 226
        },
        "id": "Vpgwc6vWZXqk",
        "outputId": "e1ba241b-fb10-49db-991b-8b34e2315bde"
      },
      "source": [
        "new_wecode.head()"
      ],
      "execution_count": 615,
      "outputs": [
        {
          "output_type": "execute_result",
          "data": {
            "text/html": [
              "<div>\n",
              "<style scoped>\n",
              "    .dataframe tbody tr th:only-of-type {\n",
              "        vertical-align: middle;\n",
              "    }\n",
              "\n",
              "    .dataframe tbody tr th {\n",
              "        vertical-align: top;\n",
              "    }\n",
              "\n",
              "    .dataframe thead th {\n",
              "        text-align: right;\n",
              "    }\n",
              "</style>\n",
              "<table border=\"1\" class=\"dataframe\">\n",
              "  <thead>\n",
              "    <tr style=\"text-align: right;\">\n",
              "      <th></th>\n",
              "      <th>user_id</th>\n",
              "      <th>no_assignment</th>\n",
              "      <th>no_problem</th>\n",
              "      <th>no_submission</th>\n",
              "      <th>no_solved</th>\n",
              "      <th>no_correct_submission</th>\n",
              "      <th>sum_pre_score_final</th>\n",
              "      <th>avg_coefficient</th>\n",
              "      <th>no_solved__no_problem</th>\n",
              "      <th>no_submission__no_submission</th>\n",
              "      <th>no_correct_submission__no_submission</th>\n",
              "    </tr>\n",
              "  </thead>\n",
              "  <tbody>\n",
              "    <tr>\n",
              "      <th>0</th>\n",
              "      <td>1</td>\n",
              "      <td>1</td>\n",
              "      <td>2</td>\n",
              "      <td>2</td>\n",
              "      <td>1</td>\n",
              "      <td>1</td>\n",
              "      <td>10000</td>\n",
              "      <td>100.0</td>\n",
              "      <td>0.500000</td>\n",
              "      <td>0.000008</td>\n",
              "      <td>0.000004</td>\n",
              "    </tr>\n",
              "    <tr>\n",
              "      <th>1</th>\n",
              "      <td>4</td>\n",
              "      <td>1</td>\n",
              "      <td>41</td>\n",
              "      <td>54</td>\n",
              "      <td>37</td>\n",
              "      <td>44</td>\n",
              "      <td>370000</td>\n",
              "      <td>100.0</td>\n",
              "      <td>0.902439</td>\n",
              "      <td>0.000204</td>\n",
              "      <td>0.000166</td>\n",
              "    </tr>\n",
              "    <tr>\n",
              "      <th>2</th>\n",
              "      <td>5</td>\n",
              "      <td>4</td>\n",
              "      <td>5</td>\n",
              "      <td>6</td>\n",
              "      <td>3</td>\n",
              "      <td>3</td>\n",
              "      <td>30000</td>\n",
              "      <td>100.0</td>\n",
              "      <td>0.600000</td>\n",
              "      <td>0.000023</td>\n",
              "      <td>0.000011</td>\n",
              "    </tr>\n",
              "    <tr>\n",
              "      <th>3</th>\n",
              "      <td>6</td>\n",
              "      <td>4</td>\n",
              "      <td>88</td>\n",
              "      <td>130</td>\n",
              "      <td>85</td>\n",
              "      <td>89</td>\n",
              "      <td>850000</td>\n",
              "      <td>100.0</td>\n",
              "      <td>0.965909</td>\n",
              "      <td>0.000491</td>\n",
              "      <td>0.000336</td>\n",
              "    </tr>\n",
              "    <tr>\n",
              "      <th>4</th>\n",
              "      <td>7</td>\n",
              "      <td>1</td>\n",
              "      <td>2</td>\n",
              "      <td>5</td>\n",
              "      <td>0</td>\n",
              "      <td>0</td>\n",
              "      <td>9209</td>\n",
              "      <td>100.0</td>\n",
              "      <td>0.000000</td>\n",
              "      <td>0.000019</td>\n",
              "      <td>0.000000</td>\n",
              "    </tr>\n",
              "  </tbody>\n",
              "</table>\n",
              "</div>"
            ],
            "text/plain": [
              "   user_id  ...  no_correct_submission__no_submission\n",
              "0        1  ...                              0.000004\n",
              "1        4  ...                              0.000166\n",
              "2        5  ...                              0.000011\n",
              "3        6  ...                              0.000336\n",
              "4        7  ...                              0.000000\n",
              "\n",
              "[5 rows x 11 columns]"
            ]
          },
          "metadata": {
            "tags": []
          },
          "execution_count": 615
        }
      ]
    },
    {
      "cell_type": "markdown",
      "metadata": {
        "id": "w-21rr5QZgfN"
      },
      "source": [
        "Sau khi đã có các thông số cần thiết, ta sẽ gộp nó với cột điểm cuối kỳ để bắt đầu vẽ scatter plot."
      ]
    },
    {
      "cell_type": "code",
      "metadata": {
        "id": "10a8rp-BZljF"
      },
      "source": [
        "# Lấy id và điểm cuối kỳ từ df score\n",
        "new_score = score.loc[:, ['id', 'CK']]"
      ],
      "execution_count": 616,
      "outputs": []
    },
    {
      "cell_type": "code",
      "metadata": {
        "id": "9Zvl3qHCZzPj"
      },
      "source": [
        "# Join 2 dataframe lại dựa trên user id, sau đó drop 1 cột id đi (vì nó cũng chính là user_id)\n",
        "final_df = new_wecode.merge(new_score, left_on='user_id', right_on='id')\n",
        "final_df.drop('id', axis=1, inplace=True)"
      ],
      "execution_count": 617,
      "outputs": []
    },
    {
      "cell_type": "code",
      "metadata": {
        "colab": {
          "base_uri": "https://localhost:8080/",
          "height": 226
        },
        "id": "YKa3leFqaZnz",
        "outputId": "c4d6301e-24e6-4689-d70d-75e9525de2b2"
      },
      "source": [
        "final_df.head()"
      ],
      "execution_count": 618,
      "outputs": [
        {
          "output_type": "execute_result",
          "data": {
            "text/html": [
              "<div>\n",
              "<style scoped>\n",
              "    .dataframe tbody tr th:only-of-type {\n",
              "        vertical-align: middle;\n",
              "    }\n",
              "\n",
              "    .dataframe tbody tr th {\n",
              "        vertical-align: top;\n",
              "    }\n",
              "\n",
              "    .dataframe thead th {\n",
              "        text-align: right;\n",
              "    }\n",
              "</style>\n",
              "<table border=\"1\" class=\"dataframe\">\n",
              "  <thead>\n",
              "    <tr style=\"text-align: right;\">\n",
              "      <th></th>\n",
              "      <th>user_id</th>\n",
              "      <th>no_assignment</th>\n",
              "      <th>no_problem</th>\n",
              "      <th>no_submission</th>\n",
              "      <th>no_solved</th>\n",
              "      <th>no_correct_submission</th>\n",
              "      <th>sum_pre_score_final</th>\n",
              "      <th>avg_coefficient</th>\n",
              "      <th>no_solved__no_problem</th>\n",
              "      <th>no_submission__no_submission</th>\n",
              "      <th>no_correct_submission__no_submission</th>\n",
              "      <th>CK</th>\n",
              "    </tr>\n",
              "  </thead>\n",
              "  <tbody>\n",
              "    <tr>\n",
              "      <th>0</th>\n",
              "      <td>24</td>\n",
              "      <td>15</td>\n",
              "      <td>78</td>\n",
              "      <td>164</td>\n",
              "      <td>72</td>\n",
              "      <td>80</td>\n",
              "      <td>750299</td>\n",
              "      <td>100.0</td>\n",
              "      <td>0.923077</td>\n",
              "      <td>0.000620</td>\n",
              "      <td>0.000302</td>\n",
              "      <td>9.5</td>\n",
              "    </tr>\n",
              "    <tr>\n",
              "      <th>1</th>\n",
              "      <td>27</td>\n",
              "      <td>2</td>\n",
              "      <td>5</td>\n",
              "      <td>13</td>\n",
              "      <td>3</td>\n",
              "      <td>4</td>\n",
              "      <td>39000</td>\n",
              "      <td>100.0</td>\n",
              "      <td>0.600000</td>\n",
              "      <td>0.000049</td>\n",
              "      <td>0.000015</td>\n",
              "      <td>10.0</td>\n",
              "    </tr>\n",
              "    <tr>\n",
              "      <th>2</th>\n",
              "      <td>29</td>\n",
              "      <td>13</td>\n",
              "      <td>80</td>\n",
              "      <td>199</td>\n",
              "      <td>72</td>\n",
              "      <td>75</td>\n",
              "      <td>762760</td>\n",
              "      <td>100.0</td>\n",
              "      <td>0.900000</td>\n",
              "      <td>0.000752</td>\n",
              "      <td>0.000283</td>\n",
              "      <td>8.5</td>\n",
              "    </tr>\n",
              "    <tr>\n",
              "      <th>3</th>\n",
              "      <td>34</td>\n",
              "      <td>11</td>\n",
              "      <td>84</td>\n",
              "      <td>218</td>\n",
              "      <td>81</td>\n",
              "      <td>81</td>\n",
              "      <td>822888</td>\n",
              "      <td>100.0</td>\n",
              "      <td>0.964286</td>\n",
              "      <td>0.000824</td>\n",
              "      <td>0.000306</td>\n",
              "      <td>6.5</td>\n",
              "    </tr>\n",
              "    <tr>\n",
              "      <th>4</th>\n",
              "      <td>35</td>\n",
              "      <td>25</td>\n",
              "      <td>147</td>\n",
              "      <td>297</td>\n",
              "      <td>145</td>\n",
              "      <td>152</td>\n",
              "      <td>1477000</td>\n",
              "      <td>100.0</td>\n",
              "      <td>0.986395</td>\n",
              "      <td>0.001122</td>\n",
              "      <td>0.000574</td>\n",
              "      <td>4.5</td>\n",
              "    </tr>\n",
              "  </tbody>\n",
              "</table>\n",
              "</div>"
            ],
            "text/plain": [
              "   user_id  no_assignment  ...  no_correct_submission__no_submission    CK\n",
              "0       24             15  ...                              0.000302   9.5\n",
              "1       27              2  ...                              0.000015  10.0\n",
              "2       29             13  ...                              0.000283   8.5\n",
              "3       34             11  ...                              0.000306   6.5\n",
              "4       35             25  ...                              0.000574   4.5\n",
              "\n",
              "[5 rows x 12 columns]"
            ]
          },
          "metadata": {
            "tags": []
          },
          "execution_count": 618
        }
      ]
    },
    {
      "cell_type": "markdown",
      "metadata": {
        "id": "eL1RIXNfbTbI"
      },
      "source": [
        "## Scatter plot"
      ]
    },
    {
      "cell_type": "code",
      "metadata": {
        "colab": {
          "base_uri": "https://localhost:8080/",
          "height": 352
        },
        "id": "-tDrMiLMbSiI",
        "outputId": "66403beb-c419-4284-9acd-86c75951d714"
      },
      "source": [
        "fix, (ax1, ax2, ax3) = plt.subplots(1, 3, figsize=(15, 5))\n",
        "\n",
        "ax1.scatter(final_df.no_assignment, final_df.CK)\n",
        "ax1.set_title('Số assignment có submit với điểm cuối kỳ')\n",
        "ax1.set(xlabel='Số assignment', ylabel='Điểm cuối kỳ')\n",
        "\n",
        "ax2.scatter(final_df.no_problem, final_df.CK)\n",
        "ax2.set_title('Số problem có submit với điểm cuối kỳ')\n",
        "ax2.set(xlabel='Số problem', ylabel='Điểm cuối kỳ')\n",
        "\n",
        "ax3.scatter(final_df.no_solved, final_df.CK)\n",
        "ax3.set_title('Số problem solved với điểm cuối kỳ')\n",
        "ax3.set(xlabel='Số problem', ylabel='Điểm cuối kỳ')\n",
        "\n",
        "plt.show()"
      ],
      "execution_count": 619,
      "outputs": [
        {
          "output_type": "display_data",
          "data": {
            "image/png": "[encoded data removed]",
            "text/plain": [
              "<Figure size 1080x360 with 3 Axes>"
            ]
          },
          "metadata": {
            "tags": [],
            "needs_background": "light"
          }
        }
      ]
    },
    {
      "cell_type": "markdown",
      "metadata": {
        "id": "WQ9luM2QBIDk"
      },
      "source": [
        "Đối với 3 biểu đồ trên, cả 3 đều thể hiện các điểm chủ yếu phân bố hình tam giác phía trên bên trái (đường chéo phụ), điều này nghĩa là khi số assignment, problem và problem solved nhiều thì điểm số của sinh viên có xu hướng tăng dần về 10. Tuy nhiên đối với biểu đồ 1 thì phân bố chưa thực sự rõ ràng, cho nên số assignment có thể ảnh hưởng ít đến điểm thi cuối kỳ."
      ]
    },
    {
      "cell_type": "code",
      "metadata": {
        "colab": {
          "base_uri": "https://localhost:8080/",
          "height": 353
        },
        "id": "HNuRkBNm1Mf2",
        "outputId": "86c5e763-b080-4d49-81b7-076a40335585"
      },
      "source": [
        "fix, (ax1, ax2, ax3) = plt.subplots(1, 3, figsize=(15, 5))\n",
        "\n",
        "ax1.scatter(final_df.no_correct_submission, final_df.CK)\n",
        "ax1.set_title('Số submit đúng với điểm cuối kỳ')\n",
        "ax1.set(xlabel='Số submission', ylabel='Điểm cuối kỳ')\n",
        "\n",
        "ax2.scatter(final_df.sum_pre_score_final, final_df.CK)\n",
        "ax2.set_title('Tổng pre_score của final submit với điểm cuối kỳ')\n",
        "ax2.set(xlabel='Score', ylabel='Điểm cuối kỳ')\n",
        "\n",
        "ax3.scatter(final_df.no_submission__no_submission, final_df.CK)\n",
        "ax3.set_title('Tỉ số với điểm cuối kỳ')\n",
        "ax3.set(xlabel='Tỉ số số problem giải/tổng số problem', ylabel='Điểm cuối kỳ')\n",
        "\n",
        "plt.show()"
      ],
      "execution_count": 620,
      "outputs": [
        {
          "output_type": "display_data",
          "data": {
            "image/png": "[encoded data removed]",
            "text/plain": [
              "<Figure size 1080x360 with 3 Axes>"
            ]
          },
          "metadata": {
            "tags": [],
            "needs_background": "light"
          }
        }
      ]
    },
    {
      "cell_type": "markdown",
      "metadata": {
        "id": "mBvJ38Y_B5By"
      },
      "source": [
        "Tương tự như 3 biểu đồ phía trên, số submission, score và tỉ số problem có submit/tổng số problem cao thì điểm thi sinh viên có xu hướng tăng dần về 10. Điều này có nghĩa là 3 feature này đều có ảnh hưởng đến kết quả thi CK"
      ]
    },
    {
      "cell_type": "code",
      "metadata": {
        "colab": {
          "base_uri": "https://localhost:8080/",
          "height": 353
        },
        "id": "k434HesW14A8",
        "outputId": "2e58ee3a-5ae5-429d-afbb-b36670a12c45"
      },
      "source": [
        "fig, (ax1, ax2) = plt.subplots(1, 2, figsize=(10, 5))\n",
        "\n",
        "ax1.set_title('Tỉ lệ submit đúng/tổng submission với điểm cuối kỳ')\n",
        "ax1.scatter(final_df.no_correct_submission__no_submission, final_df.CK)\n",
        "ax1.set(xlabel='Tỉ lệ submit đúng/tổng submission', ylabel='Điểm cuối kỳ')\n",
        "\n",
        "ax2.set_title('Trung bình nộp bài trễ với điểm cuối kỳ')\n",
        "ax2.scatter(final_df.avg_coefficient, final_df.CK)\n",
        "ax2.set(xlabel='Average coeficient', ylabel='Điểm cuối kỳ')\n",
        "\n",
        "plt.show()"
      ],
      "execution_count": 621,
      "outputs": [
        {
          "output_type": "display_data",
          "data": {
            "image/png": "[encoded data removed]",
            "text/plain": [
              "<Figure size 720x360 with 2 Axes>"
            ]
          },
          "metadata": {
            "tags": [],
            "needs_background": "light"
          }
        }
      ]
    },
    {
      "cell_type": "markdown",
      "metadata": {
        "id": "YnspqEwMCzoQ"
      },
      "source": [
        "Tương tự như feature bên trên thì tỉ lệ submit đúng/tổng submission cao thì sinh viên có xu hướng thi được điểm gần 10 hơn.\n",
        "\n",
        "Tuy nhiên với coefficient thì phân bố tập trung chủ yếu về bên phải (coefficient = 100), có một nhóm nhỏ tập trung từ khoảng 75 đến 95. Như vậy có thể là sinh viên ở khoảng này thì có khả năng đạt điểm cao hơn."
      ]
    },
    {
      "cell_type": "markdown",
      "metadata": {
        "id": "d4OpBrDL4SB2"
      },
      "source": [
        "# Dự đoán điểm cuối kỳ\n",
        "\n",
        "Sau khi đã tính toán và phân tích các thông số từ tập wecode, chúng ta có thể sử dụng để bắt đầu dự đoán điểm CK."
      ]
    },
    {
      "cell_type": "code",
      "metadata": {
        "colab": {
          "base_uri": "https://localhost:8080/"
        },
        "id": "RbeXwCkB4cai",
        "outputId": "dac9c855-4cca-48b5-ef06-e80481fcaa14"
      },
      "source": [
        "score.info()"
      ],
      "execution_count": 622,
      "outputs": [
        {
          "output_type": "stream",
          "text": [
            "<class 'pandas.core.frame.DataFrame'>\n",
            "RangeIndex: 975 entries, 0 to 974\n",
            "Data columns (total 7 columns):\n",
            " #   Column  Non-Null Count  Dtype  \n",
            "---  ------  --------------  -----  \n",
            " 0   id      975 non-null    int64  \n",
            " 1   QT      891 non-null    float64\n",
            " 2   GK      836 non-null    float64\n",
            " 3   TH      892 non-null    float64\n",
            " 4   CK      920 non-null    float64\n",
            " 5   TBM     786 non-null    float64\n",
            " 6   TBTL    972 non-null    float64\n",
            "dtypes: float64(6), int64(1)\n",
            "memory usage: 53.4 KB\n"
          ],
          "name": "stdout"
        }
      ]
    },
    {
      "cell_type": "markdown",
      "metadata": {
        "id": "acd1XIUC42JS"
      },
      "source": [
        "Chúng ta cần tách điểm cuối kỳ bị null (vị trí cần dự đoán) và điểm cuối kỳ không null (dùng cho việc đánh giá và train mô hình)."
      ]
    },
    {
      "cell_type": "code",
      "metadata": {
        "id": "c2CBc7356q-o"
      },
      "source": [
        "# Tách các data point có giá trị CK là null và không null\n",
        "null_dset = final_df[final_df.CK.isnull()]\n",
        "not_null_dset = final_df[final_df.CK.notnull()]"
      ],
      "execution_count": 623,
      "outputs": []
    },
    {
      "cell_type": "code",
      "metadata": {
        "colab": {
          "base_uri": "https://localhost:8080/",
          "height": 226
        },
        "id": "v12aJHAH7Gxk",
        "outputId": "1435c4cb-6b8b-4a8d-eb89-57686d3c6acb"
      },
      "source": [
        "null_dset.head()"
      ],
      "execution_count": 624,
      "outputs": [
        {
          "output_type": "execute_result",
          "data": {
            "text/html": [
              "<div>\n",
              "<style scoped>\n",
              "    .dataframe tbody tr th:only-of-type {\n",
              "        vertical-align: middle;\n",
              "    }\n",
              "\n",
              "    .dataframe tbody tr th {\n",
              "        vertical-align: top;\n",
              "    }\n",
              "\n",
              "    .dataframe thead th {\n",
              "        text-align: right;\n",
              "    }\n",
              "</style>\n",
              "<table border=\"1\" class=\"dataframe\">\n",
              "  <thead>\n",
              "    <tr style=\"text-align: right;\">\n",
              "      <th></th>\n",
              "      <th>user_id</th>\n",
              "      <th>no_assignment</th>\n",
              "      <th>no_problem</th>\n",
              "      <th>no_submission</th>\n",
              "      <th>no_solved</th>\n",
              "      <th>no_correct_submission</th>\n",
              "      <th>sum_pre_score_final</th>\n",
              "      <th>avg_coefficient</th>\n",
              "      <th>no_solved__no_problem</th>\n",
              "      <th>no_submission__no_submission</th>\n",
              "      <th>no_correct_submission__no_submission</th>\n",
              "      <th>CK</th>\n",
              "    </tr>\n",
              "  </thead>\n",
              "  <tbody>\n",
              "    <tr>\n",
              "      <th>14</th>\n",
              "      <td>51</td>\n",
              "      <td>5</td>\n",
              "      <td>39</td>\n",
              "      <td>86</td>\n",
              "      <td>38</td>\n",
              "      <td>40</td>\n",
              "      <td>380000</td>\n",
              "      <td>100.000000</td>\n",
              "      <td>0.974359</td>\n",
              "      <td>0.000325</td>\n",
              "      <td>0.000151</td>\n",
              "      <td>NaN</td>\n",
              "    </tr>\n",
              "    <tr>\n",
              "      <th>96</th>\n",
              "      <td>240</td>\n",
              "      <td>15</td>\n",
              "      <td>123</td>\n",
              "      <td>623</td>\n",
              "      <td>126</td>\n",
              "      <td>133</td>\n",
              "      <td>1309761</td>\n",
              "      <td>93.914928</td>\n",
              "      <td>1.024390</td>\n",
              "      <td>0.002354</td>\n",
              "      <td>0.000503</td>\n",
              "      <td>NaN</td>\n",
              "    </tr>\n",
              "    <tr>\n",
              "      <th>164</th>\n",
              "      <td>391</td>\n",
              "      <td>14</td>\n",
              "      <td>111</td>\n",
              "      <td>379</td>\n",
              "      <td>102</td>\n",
              "      <td>104</td>\n",
              "      <td>1059240</td>\n",
              "      <td>94.168865</td>\n",
              "      <td>0.918919</td>\n",
              "      <td>0.001432</td>\n",
              "      <td>0.000393</td>\n",
              "      <td>NaN</td>\n",
              "    </tr>\n",
              "    <tr>\n",
              "      <th>240</th>\n",
              "      <td>513</td>\n",
              "      <td>15</td>\n",
              "      <td>135</td>\n",
              "      <td>672</td>\n",
              "      <td>130</td>\n",
              "      <td>135</td>\n",
              "      <td>1319307</td>\n",
              "      <td>102.470238</td>\n",
              "      <td>0.962963</td>\n",
              "      <td>0.002540</td>\n",
              "      <td>0.000510</td>\n",
              "      <td>NaN</td>\n",
              "    </tr>\n",
              "    <tr>\n",
              "      <th>278</th>\n",
              "      <td>586</td>\n",
              "      <td>15</td>\n",
              "      <td>124</td>\n",
              "      <td>296</td>\n",
              "      <td>123</td>\n",
              "      <td>127</td>\n",
              "      <td>1238947</td>\n",
              "      <td>103.462838</td>\n",
              "      <td>0.991935</td>\n",
              "      <td>0.001119</td>\n",
              "      <td>0.000480</td>\n",
              "      <td>NaN</td>\n",
              "    </tr>\n",
              "  </tbody>\n",
              "</table>\n",
              "</div>"
            ],
            "text/plain": [
              "     user_id  no_assignment  ...  no_correct_submission__no_submission  CK\n",
              "14        51              5  ...                              0.000151 NaN\n",
              "96       240             15  ...                              0.000503 NaN\n",
              "164      391             14  ...                              0.000393 NaN\n",
              "240      513             15  ...                              0.000510 NaN\n",
              "278      586             15  ...                              0.000480 NaN\n",
              "\n",
              "[5 rows x 12 columns]"
            ]
          },
          "metadata": {
            "tags": []
          },
          "execution_count": 624
        }
      ]
    },
    {
      "cell_type": "code",
      "metadata": {
        "colab": {
          "base_uri": "https://localhost:8080/",
          "height": 226
        },
        "id": "tW98aTdq7JkX",
        "outputId": "cab9accb-9818-447d-bdfe-626b4f3dceda"
      },
      "source": [
        "not_null_dset.head()"
      ],
      "execution_count": 625,
      "outputs": [
        {
          "output_type": "execute_result",
          "data": {
            "text/html": [
              "<div>\n",
              "<style scoped>\n",
              "    .dataframe tbody tr th:only-of-type {\n",
              "        vertical-align: middle;\n",
              "    }\n",
              "\n",
              "    .dataframe tbody tr th {\n",
              "        vertical-align: top;\n",
              "    }\n",
              "\n",
              "    .dataframe thead th {\n",
              "        text-align: right;\n",
              "    }\n",
              "</style>\n",
              "<table border=\"1\" class=\"dataframe\">\n",
              "  <thead>\n",
              "    <tr style=\"text-align: right;\">\n",
              "      <th></th>\n",
              "      <th>user_id</th>\n",
              "      <th>no_assignment</th>\n",
              "      <th>no_problem</th>\n",
              "      <th>no_submission</th>\n",
              "      <th>no_solved</th>\n",
              "      <th>no_correct_submission</th>\n",
              "      <th>sum_pre_score_final</th>\n",
              "      <th>avg_coefficient</th>\n",
              "      <th>no_solved__no_problem</th>\n",
              "      <th>no_submission__no_submission</th>\n",
              "      <th>no_correct_submission__no_submission</th>\n",
              "      <th>CK</th>\n",
              "    </tr>\n",
              "  </thead>\n",
              "  <tbody>\n",
              "    <tr>\n",
              "      <th>0</th>\n",
              "      <td>24</td>\n",
              "      <td>15</td>\n",
              "      <td>78</td>\n",
              "      <td>164</td>\n",
              "      <td>72</td>\n",
              "      <td>80</td>\n",
              "      <td>750299</td>\n",
              "      <td>100.0</td>\n",
              "      <td>0.923077</td>\n",
              "      <td>0.000620</td>\n",
              "      <td>0.000302</td>\n",
              "      <td>9.5</td>\n",
              "    </tr>\n",
              "    <tr>\n",
              "      <th>1</th>\n",
              "      <td>27</td>\n",
              "      <td>2</td>\n",
              "      <td>5</td>\n",
              "      <td>13</td>\n",
              "      <td>3</td>\n",
              "      <td>4</td>\n",
              "      <td>39000</td>\n",
              "      <td>100.0</td>\n",
              "      <td>0.600000</td>\n",
              "      <td>0.000049</td>\n",
              "      <td>0.000015</td>\n",
              "      <td>10.0</td>\n",
              "    </tr>\n",
              "    <tr>\n",
              "      <th>2</th>\n",
              "      <td>29</td>\n",
              "      <td>13</td>\n",
              "      <td>80</td>\n",
              "      <td>199</td>\n",
              "      <td>72</td>\n",
              "      <td>75</td>\n",
              "      <td>762760</td>\n",
              "      <td>100.0</td>\n",
              "      <td>0.900000</td>\n",
              "      <td>0.000752</td>\n",
              "      <td>0.000283</td>\n",
              "      <td>8.5</td>\n",
              "    </tr>\n",
              "    <tr>\n",
              "      <th>3</th>\n",
              "      <td>34</td>\n",
              "      <td>11</td>\n",
              "      <td>84</td>\n",
              "      <td>218</td>\n",
              "      <td>81</td>\n",
              "      <td>81</td>\n",
              "      <td>822888</td>\n",
              "      <td>100.0</td>\n",
              "      <td>0.964286</td>\n",
              "      <td>0.000824</td>\n",
              "      <td>0.000306</td>\n",
              "      <td>6.5</td>\n",
              "    </tr>\n",
              "    <tr>\n",
              "      <th>4</th>\n",
              "      <td>35</td>\n",
              "      <td>25</td>\n",
              "      <td>147</td>\n",
              "      <td>297</td>\n",
              "      <td>145</td>\n",
              "      <td>152</td>\n",
              "      <td>1477000</td>\n",
              "      <td>100.0</td>\n",
              "      <td>0.986395</td>\n",
              "      <td>0.001122</td>\n",
              "      <td>0.000574</td>\n",
              "      <td>4.5</td>\n",
              "    </tr>\n",
              "  </tbody>\n",
              "</table>\n",
              "</div>"
            ],
            "text/plain": [
              "   user_id  no_assignment  ...  no_correct_submission__no_submission    CK\n",
              "0       24             15  ...                              0.000302   9.5\n",
              "1       27              2  ...                              0.000015  10.0\n",
              "2       29             13  ...                              0.000283   8.5\n",
              "3       34             11  ...                              0.000306   6.5\n",
              "4       35             25  ...                              0.000574   4.5\n",
              "\n",
              "[5 rows x 12 columns]"
            ]
          },
          "metadata": {
            "tags": []
          },
          "execution_count": 625
        }
      ]
    },
    {
      "cell_type": "code",
      "metadata": {
        "colab": {
          "base_uri": "https://localhost:8080/"
        },
        "id": "Zg28fl8i_CkE",
        "outputId": "574e5d1c-89cd-41c6-d404-75ba30aae784"
      },
      "source": [
        "not_null_dset.info()"
      ],
      "execution_count": 626,
      "outputs": [
        {
          "output_type": "stream",
          "text": [
            "<class 'pandas.core.frame.DataFrame'>\n",
            "Int64Index: 806 entries, 0 to 852\n",
            "Data columns (total 12 columns):\n",
            " #   Column                                Non-Null Count  Dtype  \n",
            "---  ------                                --------------  -----  \n",
            " 0   user_id                               806 non-null    int64  \n",
            " 1   no_assignment                         806 non-null    int64  \n",
            " 2   no_problem                            806 non-null    int64  \n",
            " 3   no_submission                         806 non-null    int64  \n",
            " 4   no_solved                             806 non-null    int64  \n",
            " 5   no_correct_submission                 806 non-null    int64  \n",
            " 6   sum_pre_score_final                   806 non-null    int64  \n",
            " 7   avg_coefficient                       806 non-null    float64\n",
            " 8   no_solved__no_problem                 806 non-null    float64\n",
            " 9   no_submission__no_submission          806 non-null    float64\n",
            " 10  no_correct_submission__no_submission  806 non-null    float64\n",
            " 11  CK                                    806 non-null    float64\n",
            "dtypes: float64(5), int64(7)\n",
            "memory usage: 81.9 KB\n"
          ],
          "name": "stdout"
        }
      ]
    },
    {
      "cell_type": "markdown",
      "metadata": {
        "id": "nNktbc2C-GE9"
      },
      "source": [
        "Chúng ta cần phải drop cột user_id vì nó không đóng góp gì vào việc training hay testing cả"
      ]
    },
    {
      "cell_type": "code",
      "metadata": {
        "colab": {
          "base_uri": "https://localhost:8080/"
        },
        "id": "9Fv4OiaM84zJ",
        "outputId": "c165b98f-2828-4fdd-e5cb-6c11a25574df"
      },
      "source": [
        "not_null_dset.drop(['user_id'], axis=1, inplace=True)"
      ],
      "execution_count": 627,
      "outputs": [
        {
          "output_type": "stream",
          "text": [
            "/usr/local/lib/python3.7/dist-packages/pandas/core/frame.py:4174: SettingWithCopyWarning: \n",
            "A value is trying to be set on a copy of a slice from a DataFrame\n",
            "\n",
            "See the caveats in the documentation: https://pandas.pydata.org/pandas-docs/stable/user_guide/indexing.html#returning-a-view-versus-a-copy\n",
            "  errors=errors,\n"
          ],
          "name": "stderr"
        }
      ]
    },
    {
      "cell_type": "markdown",
      "metadata": {
        "id": "tmR6DKWY7juE"
      },
      "source": [
        "Tiếp theo chúng ta sẽ phải chia tập not_null_dset thành tập train và tập test"
      ]
    },
    {
      "cell_type": "code",
      "metadata": {
        "id": "4RDmSx1J_YtN"
      },
      "source": [
        "# Tách tập not_null_dset thành X (features) và y (label)\n",
        "X = not_null_dset.iloc[:, :-1].values\n",
        "y = not_null_dset.iloc[:, -1].values"
      ],
      "execution_count": 628,
      "outputs": []
    },
    {
      "cell_type": "code",
      "metadata": {
        "colab": {
          "base_uri": "https://localhost:8080/"
        },
        "id": "lVcKQnqQ_a-w",
        "outputId": "a6f93fde-f635-4f62-81de-0dd0ac1640ea"
      },
      "source": [
        "# Chia thành tập train và test theo tỉ lệ 8/2\n",
        "from sklearn.model_selection import train_test_split\n",
        "X_train, X_test, y_train, y_test = train_test_split(X, y, test_size=0.15, random_state=42)\n",
        "\n",
        "print(f\"Shape of X_train: {X_train.shape}\")\n",
        "print(f\"Shape of X_test: {X_test.shape}\")\n",
        "print(f\"Shape of y_train: {y_train.shape}\")\n",
        "print(f\"Shape of y_test: {y_test.shape}\")"
      ],
      "execution_count": 629,
      "outputs": [
        {
          "output_type": "stream",
          "text": [
            "Shape of X_train: (685, 10)\n",
            "Shape of X_test: (121, 10)\n",
            "Shape of y_train: (685,)\n",
            "Shape of y_test: (121,)\n"
          ],
          "name": "stdout"
        }
      ]
    },
    {
      "cell_type": "code",
      "metadata": {
        "colab": {
          "base_uri": "https://localhost:8080/"
        },
        "id": "F13JObPP_w8y",
        "outputId": "a67c7db2-8d14-46f5-e87e-45971c8e6da9"
      },
      "source": [
        "# Normalize giá trị về khoảng giá trị gần 0 để tính toán nhanh hơn\n",
        "# Normalize giá trị nguyên về khoảng giá trị nhỏ hơn để tính toán nhanh hơn\n",
        "from sklearn.preprocessing import StandardScaler\n",
        "sc = StandardScaler()\n",
        "not_null_dset = sc.fit_transform(not_null_dset)\n",
        "\n",
        "not_null_dset[:5]"
      ],
      "execution_count": 630,
      "outputs": [
        {
          "output_type": "execute_result",
          "data": {
            "text/plain": [
              "array([[ 0.55411903, -0.22809705, -0.45832268, -0.27682624, -0.19159057,\n",
              "        -0.26459632,  0.25079645,  0.02528729, -0.45832268, -0.19159057,\n",
              "         1.48398056],\n",
              "       [-1.3988104 , -1.72161746, -1.38355856, -1.58174355, -1.54616954,\n",
              "        -1.58369708,  0.25079645, -1.57808301, -1.38355856, -1.54616954,\n",
              "         1.70696496],\n",
              "       [ 0.25366835, -0.18717869, -0.24386404, -0.27682624, -0.28070761,\n",
              "        -0.24148745,  0.25079645, -0.08923916, -0.24386404, -0.28070761,\n",
              "         1.03801176],\n",
              "       [-0.04678233, -0.10534195, -0.12744363, -0.10661963, -0.17376717,\n",
              "        -0.12998035,  0.25079645,  0.2297988 , -0.12744363, -0.17376717,\n",
              "         0.14607415],\n",
              "       [ 2.05637243,  1.18358662,  0.35662017,  1.10373845,  1.09169477,\n",
              "         1.08306739,  0.25079645,  0.33952085,  0.35662017,  1.09169477,\n",
              "        -0.74586346]])"
            ]
          },
          "metadata": {
            "tags": []
          },
          "execution_count": 630
        }
      ]
    },
    {
      "cell_type": "markdown",
      "metadata": {
        "id": "o0d8Xtdd8bMo"
      },
      "source": [
        "Như vậy chúng ta sẽ có 685 data point cho việc training và 121 data point cho việc testing.\n",
        "\n",
        "Bây giờ chúng ta sẽ thực nghiệm qua các mô hình khác nhau để chọn ra mô hình phù hợp nhất với dữ liệu của chúng ta. Độ đo được sử dụng sẽ là $R^2$, MSE và MAE. Vậy để đánh giá thì trước tiên ta xem thử giá trị trung bình của y_test như thế nào."
      ]
    },
    {
      "cell_type": "code",
      "metadata": {
        "id": "39bv9m-bA1-S"
      },
      "source": [
        "mean_y_test = y_test.mean()"
      ],
      "execution_count": 631,
      "outputs": []
    },
    {
      "cell_type": "code",
      "metadata": {
        "id": "5KAW58WQA8kN"
      },
      "source": [
        "from sklearn.metrics import r2_score, mean_absolute_error, mean_squared_error"
      ],
      "execution_count": 632,
      "outputs": []
    },
    {
      "cell_type": "markdown",
      "metadata": {
        "id": "JYCLXvlcAFul"
      },
      "source": [
        "## Linear Regression"
      ]
    },
    {
      "cell_type": "code",
      "metadata": {
        "colab": {
          "base_uri": "https://localhost:8080/"
        },
        "id": "Lqq0rgNZ8XC6",
        "outputId": "c4eb4930-1b81-4878-f2ef-66593e1a8fe5"
      },
      "source": [
        "from sklearn.linear_model import LinearRegression\n",
        "model = LinearRegression()\n",
        "model.fit(X_train, y_train)\n",
        "\n",
        "y_pred = model.predict(X_test)\n",
        "\n",
        "mae = mean_absolute_error(y_test, y_pred)\n",
        "print(f\"R2 Score: {r2_score(y_test, y_pred)}\")\n",
        "print(f\"Mean y test: {mean_y_test}\")\n",
        "print(f\"MAE: {mae}\")\n",
        "print(f\"MSE: {mean_squared_error(y_test, y_pred)}\")"
      ],
      "execution_count": 645,
      "outputs": [
        {
          "output_type": "stream",
          "text": [
            "R2 Score: 0.2160431451227386\n",
            "Mean y test: 6.1735537190082646\n",
            "MAE: 1.5354663408128206\n",
            "MSE: 3.71799878107267\n"
          ],
          "name": "stdout"
        }
      ]
    },
    {
      "cell_type": "code",
      "metadata": {
        "colab": {
          "base_uri": "https://localhost:8080/"
        },
        "id": "B-y-jZVaE3fj",
        "outputId": "b6e5d302-ac92-4786-8c93-46d2af8fcbbc"
      },
      "source": [
        "print(f\"y_test\\ty_pred\")\n",
        "for i in range(10):\n",
        "  print(f\"{y_test[i]}\\t{y_pred[i]}\")"
      ],
      "execution_count": 646,
      "outputs": [
        {
          "output_type": "stream",
          "text": [
            "y_test\ty_pred\n",
            "9.0\t6.723904607596369\n",
            "8.0\t6.377330465787498\n",
            "7.5\t6.72019545010261\n",
            "7.0\t6.189308562805962\n",
            "2.5\t5.687323895600753\n",
            "3.0\t5.184443757697611\n",
            "8.5\t7.3657760270942205\n",
            "6.0\t7.442231923379152\n",
            "0.0\t6.042106669986069\n",
            "6.0\t6.058016030866305\n"
          ],
          "name": "stdout"
        }
      ]
    },
    {
      "cell_type": "markdown",
      "metadata": {
        "id": "BDuw6DIIF8h7"
      },
      "source": [
        "## SVR"
      ]
    },
    {
      "cell_type": "code",
      "metadata": {
        "colab": {
          "base_uri": "https://localhost:8080/"
        },
        "id": "BN5NciRvGB9T",
        "outputId": "28a8008c-3f9a-4891-ea67-8bae9c5a97c2"
      },
      "source": [
        "from sklearn.svm import SVR\n",
        "model = SVR()\n",
        "model.fit(X_train, y_train)\n",
        "\n",
        "y_pred = model.predict(X_test)\n",
        "\n",
        "mae = mean_absolute_error(y_test, y_pred)\n",
        "print(f\"R2 Score: {r2_score(y_test, y_pred)}\")\n",
        "print(f\"Mean y test: {mean_y_test}\")\n",
        "print(f\"MAE: {mae}\")\n",
        "print(f\"MSE: {mean_squared_error(y_test, y_pred)}\")"
      ],
      "execution_count": 647,
      "outputs": [
        {
          "output_type": "stream",
          "text": [
            "R2 Score: 0.07116720734935678\n",
            "Mean y test: 6.1735537190082646\n",
            "MAE: 1.6915863573897068\n",
            "MSE: 4.405088327770398\n"
          ],
          "name": "stdout"
        }
      ]
    },
    {
      "cell_type": "code",
      "metadata": {
        "colab": {
          "base_uri": "https://localhost:8080/"
        },
        "id": "g0KTrIWIGKe4",
        "outputId": "6233d3e2-44d0-4c9a-f679-f3360126845b"
      },
      "source": [
        "print(f\"y_test\\ty_pred\")\n",
        "for i in range(10):\n",
        "  print(f\"{y_test[i]}\\t{y_pred[i]}\")"
      ],
      "execution_count": 648,
      "outputs": [
        {
          "output_type": "stream",
          "text": [
            "y_test\ty_pred\n",
            "9.0\t6.486239623966118\n",
            "8.0\t5.826467532833639\n",
            "7.5\t6.237040887255413\n",
            "7.0\t6.370397670677415\n",
            "2.5\t5.957626118655139\n",
            "3.0\t6.629453899212649\n",
            "8.5\t7.682937570448583\n",
            "6.0\t7.4488321374660735\n",
            "0.0\t5.842337681329699\n",
            "6.0\t6.40298316949265\n"
          ],
          "name": "stdout"
        }
      ]
    },
    {
      "cell_type": "markdown",
      "metadata": {
        "id": "5rXVmDrzGQT0"
      },
      "source": [
        "Khi áp dụng SVR thì kết quả cho ra còn tệ hơn LinearRegression"
      ]
    },
    {
      "cell_type": "markdown",
      "metadata": {
        "id": "Tn62h1orGTZA"
      },
      "source": [
        "## Decision tree regressor"
      ]
    },
    {
      "cell_type": "code",
      "metadata": {
        "colab": {
          "base_uri": "https://localhost:8080/"
        },
        "id": "B9ShJihnGbY3",
        "outputId": "720112ce-69cb-4253-93f7-bb45e63b53e6"
      },
      "source": [
        "from sklearn.tree import DecisionTreeRegressor\n",
        "model = DecisionTreeRegressor(random_state=42)\n",
        "model.fit(X_train, y_train)\n",
        "\n",
        "y_pred = model.predict(X_test)\n",
        "\n",
        "mae = mean_absolute_error(y_test, y_pred)\n",
        "print(f\"R2 Score: {r2_score(y_test, y_pred)}\")\n",
        "print(f\"Mean y test: {mean_y_test}\")\n",
        "print(f\"MAE: {mae}\")\n",
        "print(f\"MSE: {mean_squared_error(y_test, y_pred)}\")"
      ],
      "execution_count": 649,
      "outputs": [
        {
          "output_type": "stream",
          "text": [
            "R2 Score: -0.3348311046783752\n",
            "Mean y test: 6.1735537190082646\n",
            "MAE: 1.8677685950413223\n",
            "MSE: 6.330578512396694\n"
          ],
          "name": "stdout"
        }
      ]
    },
    {
      "cell_type": "code",
      "metadata": {
        "colab": {
          "base_uri": "https://localhost:8080/"
        },
        "id": "f7YvANpwH2Xr",
        "outputId": "32a7fc87-3d75-485d-b4b1-32084c1bdab3"
      },
      "source": [
        "print(f\"y_test\\ty_pred\")\n",
        "for i in range(10):\n",
        "  print(f\"{y_test[i]}\\t{y_pred[i]}\")"
      ],
      "execution_count": 650,
      "outputs": [
        {
          "output_type": "stream",
          "text": [
            "y_test\ty_pred\n",
            "9.0\t8.0\n",
            "8.0\t8.0\n",
            "7.5\t7.5\n",
            "7.0\t7.5\n",
            "2.5\t3.5\n",
            "3.0\t4.5\n",
            "8.5\t6.5\n",
            "6.0\t8.0\n",
            "0.0\t6.0\n",
            "6.0\t7.0\n"
          ],
          "name": "stdout"
        }
      ]
    },
    {
      "cell_type": "markdown",
      "metadata": {
        "id": "LhAtbtajGkbF"
      },
      "source": [
        "## RandomForestRegressor"
      ]
    },
    {
      "cell_type": "code",
      "metadata": {
        "colab": {
          "base_uri": "https://localhost:8080/"
        },
        "id": "pPZ4nj9EGti1",
        "outputId": "8708af0b-7e68-4ec2-9356-87aca147d4ee"
      },
      "source": [
        "from sklearn.ensemble import RandomForestRegressor\n",
        "model = RandomForestRegressor(random_state=42)\n",
        "model.fit(X_train, y_train)\n",
        "\n",
        "y_pred = model.predict(X_test)\n",
        "\n",
        "mae = mean_absolute_error(y_test, y_pred)\n",
        "print(f\"R2 Score: {r2_score(y_test, y_pred)}\")\n",
        "print(f\"Mean y test: {mean_y_test}\")\n",
        "print(f\"MAE: {mae}\")\n",
        "print(f\"MSE: {mean_squared_error(y_test, y_pred)}\")"
      ],
      "execution_count": 651,
      "outputs": [
        {
          "output_type": "stream",
          "text": [
            "R2 Score: 0.2610115792846701\n",
            "Mean y test: 6.1735537190082646\n",
            "MAE: 1.521115702479339\n",
            "MSE: 3.5047311983471072\n"
          ],
          "name": "stdout"
        }
      ]
    },
    {
      "cell_type": "code",
      "metadata": {
        "colab": {
          "base_uri": "https://localhost:8080/"
        },
        "id": "BkpA_jbGH0xG",
        "outputId": "5560ed69-6d60-4dcc-d4d9-d489f8afc84c"
      },
      "source": [
        "print(f\"y_test\\ty_pred\")\n",
        "for i in range(10):\n",
        "  print(f\"{y_test[i]}\\t{y_pred[i]}%\")"
      ],
      "execution_count": 652,
      "outputs": [
        {
          "output_type": "stream",
          "text": [
            "y_test\ty_pred\n",
            "9.0\t7.06%\n",
            "8.0\t7.835%\n",
            "7.5\t5.935%\n",
            "7.0\t5.91%\n",
            "2.5\t4.91%\n",
            "3.0\t4.925%\n",
            "8.5\t6.325%\n",
            "6.0\t7.085%\n",
            "0.0\t5.53%\n",
            "6.0\t6.14%\n"
          ],
          "name": "stdout"
        }
      ]
    },
    {
      "cell_type": "markdown",
      "metadata": {
        "id": "NBzpiv6PYcgo"
      },
      "source": [
        "Sau khi chạy thử thì có thể thấy RandomForestRegressor đang cho kết quả cao nhất."
      ]
    },
    {
      "cell_type": "markdown",
      "metadata": {
        "id": "NQ1huZVLRLLf"
      },
      "source": [
        "## Thử áp dụng PCA để giảm số chiều dữ liệu"
      ]
    },
    {
      "cell_type": "code",
      "metadata": {
        "id": "eYHLsOnJRO_K"
      },
      "source": [
        "from sklearn.decomposition import PCA\n",
        "pca = PCA(6, random_state=42)\n",
        "\n",
        "pca.fit(X_train)\n",
        "\n",
        "X_train_reduced = pca.transform(X_train)"
      ],
      "execution_count": 653,
      "outputs": []
    },
    {
      "cell_type": "code",
      "metadata": {
        "colab": {
          "base_uri": "https://localhost:8080/"
        },
        "id": "7PD0HqyGRsyw",
        "outputId": "0c365e11-0ed5-4dae-e490-ffe7852703c5"
      },
      "source": [
        "print(X_train_reduced[:3])"
      ],
      "execution_count": 654,
      "outputs": [
        {
          "output_type": "stream",
          "text": [
            "[[ 9.29492267e+05  1.13699192e+02 -2.89248524e+00 -6.92163390e+00\n",
            "  -4.99084313e+00  1.12338925e+01]\n",
            " [-1.70765808e+05  2.70323866e+01 -1.45115204e+00 -7.63889572e+00\n",
            "   1.20138071e+00 -1.01243273e+00]\n",
            " [-4.37967840e+05 -5.34200782e+01  5.29940544e+00  3.69074145e+00\n",
            "  -7.27057840e+00 -1.37814506e+00]]\n"
          ],
          "name": "stdout"
        }
      ]
    },
    {
      "cell_type": "markdown",
      "metadata": {
        "id": "6iTTHLBhR92B"
      },
      "source": [
        "Sau khi áp dụng PCA thì tiếp tục thử lại các phương pháp tốt nhất ở phía trên."
      ]
    },
    {
      "cell_type": "code",
      "metadata": {
        "colab": {
          "base_uri": "https://localhost:8080/"
        },
        "id": "rLC4TQdWR1Al",
        "outputId": "f3c90ea6-bedf-46a7-91f6-d879988ce2df"
      },
      "source": [
        "from sklearn.linear_model import LinearRegression\n",
        "model = LinearRegression()\n",
        "model.fit(X_train_reduced, y_train)\n",
        "\n",
        "y_pred = model.predict(pca.transform(X_test))\n",
        "\n",
        "mae = mean_absolute_error(y_test, y_pred)\n",
        "print(f\"R2 Score: {r2_score(y_test, y_pred)}\")\n",
        "print(f\"Mean y test: {mean_y_test}\")\n",
        "print(f\"MAE: {mae}\")\n",
        "print(f\"MSE: {mean_squared_error(y_test, y_pred)}\")"
      ],
      "execution_count": 655,
      "outputs": [
        {
          "output_type": "stream",
          "text": [
            "R2 Score: 0.2096870989098395\n",
            "Mean y test: 6.1735537190082646\n",
            "MAE: 1.5401390871249883\n",
            "MSE: 3.748143006389381\n"
          ],
          "name": "stdout"
        }
      ]
    },
    {
      "cell_type": "code",
      "metadata": {
        "colab": {
          "base_uri": "https://localhost:8080/"
        },
        "id": "ilJLl_7uSb_a",
        "outputId": "fdf815ab-2f22-4d4b-b2fa-7d7e569384b8"
      },
      "source": [
        "from sklearn.ensemble import RandomForestRegressor\n",
        "model = RandomForestRegressor(random_state=42)\n",
        "model.fit(X_train_reduced, y_train)\n",
        "\n",
        "y_pred = model.predict(pca.transform(X_test))\n",
        "\n",
        "mae = mean_absolute_error(y_test, y_pred)\n",
        "print(f\"R2 Score: {r2_score(y_test, y_pred)}\")\n",
        "print(f\"Mean y test: {mean_y_test}\")\n",
        "print(f\"MAE: {mae}\")\n",
        "print(f\"MSE: {mean_squared_error(y_test, y_pred)}\")"
      ],
      "execution_count": 656,
      "outputs": [
        {
          "output_type": "stream",
          "text": [
            "R2 Score: 0.27999605172581743\n",
            "Mean y test: 6.1735537190082646\n",
            "MAE: 1.449693526170799\n",
            "MSE: 3.4146953182392097\n"
          ],
          "name": "stdout"
        }
      ]
    },
    {
      "cell_type": "markdown",
      "metadata": {
        "id": "54Iy-XmXY96m"
      },
      "source": [
        "# Kết luận"
      ]
    },
    {
      "cell_type": "markdown",
      "metadata": {
        "id": "zABpeLpEZAfT"
      },
      "source": [
        "Như vậy có thể thấy là việc dự đoán điểm dựa trên quá trình nộp bài Wecode là chưa khả quan."
      ]
    }
  ]
}