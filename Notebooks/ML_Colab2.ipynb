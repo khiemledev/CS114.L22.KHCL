{
  "nbformat": 4,
  "nbformat_minor": 0,
  "metadata": {
    "colab": {
      "name": "ML-Colab2.ipynb",
      "provenance": [],
      "collapsed_sections": []
    },
    "kernelspec": {
      "name": "python3",
      "display_name": "Python 3"
    },
    "language_info": {
      "name": "python"
    }
  },
  "cells": [
    {
      "cell_type": "markdown",
      "metadata": {
        "id": "f2b9rQoWIHKS"
      },
      "source": [
        "# Bài Colab số 2: dự đoán thời gian chạy chương trình\n",
        "\n",
        "Thành viên nhóm:\n",
        "\n",
        "- Lê Trần Trọng Khiêm - 19521689\n",
        "- Trần Tiến Hưng - 19521587\n",
        "- Lê Đặng Đăng Huy - 19521612"
      ]
    },
    {
      "cell_type": "markdown",
      "metadata": {
        "id": "2uEJQse3J_OH"
      },
      "source": [
        "Import một số thư viện cần thiết"
      ]
    },
    {
      "cell_type": "code",
      "metadata": {
        "id": "0fbbg8M7JSUW"
      },
      "source": [
        "import numpy as np\n",
        "import pandas as pd\n",
        "import matplotlib.pyplot as plt"
      ],
      "execution_count": 62,
      "outputs": []
    },
    {
      "cell_type": "markdown",
      "metadata": {
        "id": "QHHnlXh9JX8G"
      },
      "source": [
        "# Tải dữ liệu từ google drive"
      ]
    },
    {
      "cell_type": "code",
      "metadata": {
        "colab": {
          "base_uri": "https://localhost:8080/"
        },
        "id": "z6GL31RoIr8Y",
        "outputId": "fc20d1ff-a303-41d2-a76a-e883520a5961"
      },
      "source": [
        "!gdown --id 11j5wIs8vlxKTxgElX8FdW616ybhNbC_H -O train.txt"
      ],
      "execution_count": 63,
      "outputs": [
        {
          "output_type": "stream",
          "text": [
            "Downloading...\n",
            "From: https://drive.google.com/uc?id=11j5wIs8vlxKTxgElX8FdW616ybhNbC_H\n",
            "To: /content/train.txt\n",
            "\r  0% 0.00/1.20M [00:00<?, ?B/s]\r100% 1.20M/1.20M [00:00<00:00, 79.0MB/s]\n"
          ],
          "name": "stdout"
        }
      ]
    },
    {
      "cell_type": "code",
      "metadata": {
        "colab": {
          "base_uri": "https://localhost:8080/"
        },
        "id": "X0IL_6AJI8qJ",
        "outputId": "d6a7d1bf-631b-43e3-9e0c-6637f260ec29"
      },
      "source": [
        "!gdown --id 1lHABkpe-ljfYBURQ_cdb716tTIu-N3m0 -O test.txt"
      ],
      "execution_count": 64,
      "outputs": [
        {
          "output_type": "stream",
          "text": [
            "Downloading...\n",
            "From: https://drive.google.com/uc?id=1lHABkpe-ljfYBURQ_cdb716tTIu-N3m0\n",
            "To: /content/test.txt\n",
            "\r  0% 0.00/179k [00:00<?, ?B/s]\r100% 179k/179k [00:00<00:00, 62.0MB/s]\n"
          ],
          "name": "stdout"
        }
      ]
    },
    {
      "cell_type": "markdown",
      "metadata": {
        "id": "YkpqKFAcKDSR"
      },
      "source": [
        "# Load dữ liệu từ file txt và phân tích"
      ]
    },
    {
      "cell_type": "code",
      "metadata": {
        "id": "sQ1QTmo0JeqM"
      },
      "source": [
        "train = pd.read_csv('train.txt', delimiter=',', header=None)\n",
        "test = pd.read_csv('test.txt', delimiter=',', header=None)"
      ],
      "execution_count": 65,
      "outputs": []
    },
    {
      "cell_type": "code",
      "metadata": {
        "colab": {
          "base_uri": "https://localhost:8080/",
          "height": 195
        },
        "id": "0TGOrIOZKQk_",
        "outputId": "d7e8adff-941a-4a95-8037-3aa8407cc8c3"
      },
      "source": [
        "train.head()"
      ],
      "execution_count": 66,
      "outputs": [
        {
          "output_type": "execute_result",
          "data": {
            "text/html": [
              "<div>\n",
              "<style scoped>\n",
              "    .dataframe tbody tr th:only-of-type {\n",
              "        vertical-align: middle;\n",
              "    }\n",
              "\n",
              "    .dataframe tbody tr th {\n",
              "        vertical-align: top;\n",
              "    }\n",
              "\n",
              "    .dataframe thead th {\n",
              "        text-align: right;\n",
              "    }\n",
              "</style>\n",
              "<table border=\"1\" class=\"dataframe\">\n",
              "  <thead>\n",
              "    <tr style=\"text-align: right;\">\n",
              "      <th></th>\n",
              "      <th>0</th>\n",
              "      <th>1</th>\n",
              "    </tr>\n",
              "  </thead>\n",
              "  <tbody>\n",
              "    <tr>\n",
              "      <th>0</th>\n",
              "      <td>6083695</td>\n",
              "      <td>0.521842</td>\n",
              "    </tr>\n",
              "    <tr>\n",
              "      <th>1</th>\n",
              "      <td>1954367</td>\n",
              "      <td>0.152648</td>\n",
              "    </tr>\n",
              "    <tr>\n",
              "      <th>2</th>\n",
              "      <td>3734185</td>\n",
              "      <td>0.298548</td>\n",
              "    </tr>\n",
              "    <tr>\n",
              "      <th>3</th>\n",
              "      <td>5839301</td>\n",
              "      <td>0.460480</td>\n",
              "    </tr>\n",
              "    <tr>\n",
              "      <th>4</th>\n",
              "      <td>6343427</td>\n",
              "      <td>0.527977</td>\n",
              "    </tr>\n",
              "  </tbody>\n",
              "</table>\n",
              "</div>"
            ],
            "text/plain": [
              "         0         1\n",
              "0  6083695  0.521842\n",
              "1  1954367  0.152648\n",
              "2  3734185  0.298548\n",
              "3  5839301  0.460480\n",
              "4  6343427  0.527977"
            ]
          },
          "metadata": {
            "tags": []
          },
          "execution_count": 66
        }
      ]
    },
    {
      "cell_type": "code",
      "metadata": {
        "colab": {
          "base_uri": "https://localhost:8080/"
        },
        "id": "WxyjgFBnJweR",
        "outputId": "05173ff9-976a-4a8b-f9ce-a2ecfb686ca5"
      },
      "source": [
        "train.info()"
      ],
      "execution_count": 67,
      "outputs": [
        {
          "output_type": "stream",
          "text": [
            "<class 'pandas.core.frame.DataFrame'>\n",
            "RangeIndex: 71115 entries, 0 to 71114\n",
            "Data columns (total 2 columns):\n",
            " #   Column  Non-Null Count  Dtype  \n",
            "---  ------  --------------  -----  \n",
            " 0   0       71115 non-null  int64  \n",
            " 1   1       71115 non-null  float64\n",
            "dtypes: float64(1), int64(1)\n",
            "memory usage: 1.1 MB\n"
          ],
          "name": "stdout"
        }
      ]
    },
    {
      "cell_type": "code",
      "metadata": {
        "colab": {
          "base_uri": "https://localhost:8080/",
          "height": 284
        },
        "id": "Aeh0DskyKWXT",
        "outputId": "06ca9663-fa60-48b7-d3c9-5b3141d150f2"
      },
      "source": [
        "train.describe()"
      ],
      "execution_count": 68,
      "outputs": [
        {
          "output_type": "execute_result",
          "data": {
            "text/html": [
              "<div>\n",
              "<style scoped>\n",
              "    .dataframe tbody tr th:only-of-type {\n",
              "        vertical-align: middle;\n",
              "    }\n",
              "\n",
              "    .dataframe tbody tr th {\n",
              "        vertical-align: top;\n",
              "    }\n",
              "\n",
              "    .dataframe thead th {\n",
              "        text-align: right;\n",
              "    }\n",
              "</style>\n",
              "<table border=\"1\" class=\"dataframe\">\n",
              "  <thead>\n",
              "    <tr style=\"text-align: right;\">\n",
              "      <th></th>\n",
              "      <th>0</th>\n",
              "      <th>1</th>\n",
              "    </tr>\n",
              "  </thead>\n",
              "  <tbody>\n",
              "    <tr>\n",
              "      <th>count</th>\n",
              "      <td>7.111500e+04</td>\n",
              "      <td>71115.000000</td>\n",
              "    </tr>\n",
              "    <tr>\n",
              "      <th>mean</th>\n",
              "      <td>4.998766e+06</td>\n",
              "      <td>0.406785</td>\n",
              "    </tr>\n",
              "    <tr>\n",
              "      <th>std</th>\n",
              "      <td>2.882618e+06</td>\n",
              "      <td>0.244039</td>\n",
              "    </tr>\n",
              "    <tr>\n",
              "      <th>min</th>\n",
              "      <td>2.550000e+02</td>\n",
              "      <td>0.000009</td>\n",
              "    </tr>\n",
              "    <tr>\n",
              "      <th>25%</th>\n",
              "      <td>2.496521e+06</td>\n",
              "      <td>0.192746</td>\n",
              "    </tr>\n",
              "    <tr>\n",
              "      <th>50%</th>\n",
              "      <td>5.010144e+06</td>\n",
              "      <td>0.403410</td>\n",
              "    </tr>\n",
              "    <tr>\n",
              "      <th>75%</th>\n",
              "      <td>7.481742e+06</td>\n",
              "      <td>0.616155</td>\n",
              "    </tr>\n",
              "    <tr>\n",
              "      <th>max</th>\n",
              "      <td>9.999882e+06</td>\n",
              "      <td>0.983776</td>\n",
              "    </tr>\n",
              "  </tbody>\n",
              "</table>\n",
              "</div>"
            ],
            "text/plain": [
              "                  0             1\n",
              "count  7.111500e+04  71115.000000\n",
              "mean   4.998766e+06      0.406785\n",
              "std    2.882618e+06      0.244039\n",
              "min    2.550000e+02      0.000009\n",
              "25%    2.496521e+06      0.192746\n",
              "50%    5.010144e+06      0.403410\n",
              "75%    7.481742e+06      0.616155\n",
              "max    9.999882e+06      0.983776"
            ]
          },
          "metadata": {
            "tags": []
          },
          "execution_count": 68
        }
      ]
    },
    {
      "cell_type": "code",
      "metadata": {
        "colab": {
          "base_uri": "https://localhost:8080/"
        },
        "id": "wuCSU3fHNSwG",
        "outputId": "ea9104e0-fd56-47c9-99f6-af592cc06a8a"
      },
      "source": [
        "test.info()"
      ],
      "execution_count": 69,
      "outputs": [
        {
          "output_type": "stream",
          "text": [
            "<class 'pandas.core.frame.DataFrame'>\n",
            "RangeIndex: 10590 entries, 0 to 10589\n",
            "Data columns (total 2 columns):\n",
            " #   Column  Non-Null Count  Dtype  \n",
            "---  ------  --------------  -----  \n",
            " 0   0       10590 non-null  int64  \n",
            " 1   1       10590 non-null  float64\n",
            "dtypes: float64(1), int64(1)\n",
            "memory usage: 165.6 KB\n"
          ],
          "name": "stdout"
        }
      ]
    },
    {
      "cell_type": "markdown",
      "metadata": {
        "id": "u3hC6Gn1K3Pw"
      },
      "source": [
        "Tập train có 71115 data point và tập test có 10590 datapoint\n",
        "\n",
        "Có thể tóm lại tập train như sau:\n",
        "- Cột đầu là int64 và cột 2 là float64\n",
        "- Cột 0 (feature):\n",
        "  - Giá trị thuộc khoảng [255; 9999882]\n",
        "  - Mean: 4998766.3619\n",
        "  - Std: 2882618.1742\n",
        "- Cột 1 (label):\n",
        "  - Giá trị thuộc khoảng [0.000009; 0.983776]\n",
        "  - Mean: 0.406785\n",
        "  - Std: 0.244039"
      ]
    },
    {
      "cell_type": "markdown",
      "metadata": {
        "id": "ERmb-dx9Nxwl"
      },
      "source": [
        "# Tách feature và label"
      ]
    },
    {
      "cell_type": "code",
      "metadata": {
        "id": "1HGZl6RsM0xQ"
      },
      "source": [
        "X_train = train.iloc[:, 0:-1].values\n",
        "y_train = train.iloc[:, -1].values\n",
        "\n",
        "X_test = test.iloc[:, 0:-1].values\n",
        "y_test = test.iloc[:, -1].values"
      ],
      "execution_count": 70,
      "outputs": []
    },
    {
      "cell_type": "code",
      "metadata": {
        "colab": {
          "base_uri": "https://localhost:8080/"
        },
        "id": "feI0CLc2NEq0",
        "outputId": "60b6432f-6350-43de-e1ba-86e0b0c12a7d"
      },
      "source": [
        "print(X_train.shape, y_train.shape)\n",
        "print(X_test.shape, y_test.shape)"
      ],
      "execution_count": 71,
      "outputs": [
        {
          "output_type": "stream",
          "text": [
            "(71115, 1) (71115,)\n",
            "(10590, 1) (10590,)\n"
          ],
          "name": "stdout"
        }
      ]
    },
    {
      "cell_type": "code",
      "metadata": {
        "colab": {
          "base_uri": "https://localhost:8080/"
        },
        "id": "b5Rp8JrUNrMk",
        "outputId": "d540ad33-da39-4747-c4c5-da0722e6533d"
      },
      "source": [
        "X_train[:5]"
      ],
      "execution_count": 72,
      "outputs": [
        {
          "output_type": "execute_result",
          "data": {
            "text/plain": [
              "array([[6083695],\n",
              "       [1954367],\n",
              "       [3734185],\n",
              "       [5839301],\n",
              "       [6343427]])"
            ]
          },
          "metadata": {
            "tags": []
          },
          "execution_count": 72
        }
      ]
    },
    {
      "cell_type": "code",
      "metadata": {
        "colab": {
          "base_uri": "https://localhost:8080/"
        },
        "id": "ZW6rvMWFNuxe",
        "outputId": "dfaca166-64cc-4252-cfb2-09a5bcfbfca4"
      },
      "source": [
        "y_train[:5]"
      ],
      "execution_count": 73,
      "outputs": [
        {
          "output_type": "execute_result",
          "data": {
            "text/plain": [
              "array([0.521842, 0.152648, 0.298548, 0.46048 , 0.527977])"
            ]
          },
          "metadata": {
            "tags": []
          },
          "execution_count": 73
        }
      ]
    },
    {
      "cell_type": "markdown",
      "metadata": {
        "id": "4SnFvpKmN7sL"
      },
      "source": [
        "# Trực quan hóa dữ liệu"
      ]
    },
    {
      "cell_type": "code",
      "metadata": {
        "colab": {
          "base_uri": "https://localhost:8080/",
          "height": 459
        },
        "id": "hXVNjfHbN-aj",
        "outputId": "cc4bbcc5-774b-4088-e9c9-3ccdf211071a"
      },
      "source": [
        "fig = plt.figure(figsize=(7, 7))\n",
        "plt.title('Biểu đồ thời gian thực thi chương trình dựa trên input size')\n",
        "plt.xlabel('Size')\n",
        "plt.ylabel('Time')\n",
        "plt.scatter(X_train, y_train)\n",
        "fig.show()"
      ],
      "execution_count": 74,
      "outputs": [
        {
          "output_type": "display_data",
          "data": {
            "image/png": "[encoded data removed]",
            "text/plain": [
              "<Figure size 504x504 with 1 Axes>"
            ]
          },
          "metadata": {
            "tags": [],
            "needs_background": "light"
          }
        }
      ]
    },
    {
      "cell_type": "markdown",
      "metadata": {
        "id": "mtir0UMhPXrm"
      },
      "source": [
        "Nhìn vào dữ liệu đã được trực quan hóa, chúng ta có thể dễ dàng nhận thấy dữ liệu có phân bố tuyến tính, các điểm dữ liệu gần như nằm trên cùng một đường thẳng. Do đó chúng ta có thể sử dụng LinearRegression."
      ]
    },
    {
      "cell_type": "markdown",
      "metadata": {
        "id": "7XA9MAzwPn0j"
      },
      "source": [
        "# Tạo model LinearRegression và train"
      ]
    },
    {
      "cell_type": "code",
      "metadata": {
        "colab": {
          "base_uri": "https://localhost:8080/"
        },
        "id": "4Drd_u-WPp0G",
        "outputId": "8b8dd8a3-a8cd-4b10-8ff8-fbf78e5a5328"
      },
      "source": [
        "from sklearn.linear_model import LinearRegression\n",
        "model = LinearRegression()\n",
        "model.fit(X_train, y_train)"
      ],
      "execution_count": 75,
      "outputs": [
        {
          "output_type": "execute_result",
          "data": {
            "text/plain": [
              "LinearRegression(copy_X=True, fit_intercept=True, n_jobs=None, normalize=False)"
            ]
          },
          "metadata": {
            "tags": []
          },
          "execution_count": 75
        }
      ]
    },
    {
      "cell_type": "markdown",
      "metadata": {
        "id": "EMzJNK7nP7_y"
      },
      "source": [
        "# Đánh giá mô hình"
      ]
    },
    {
      "cell_type": "markdown",
      "metadata": {
        "id": "ipzlWJSyP_3w"
      },
      "source": [
        "Sau khi đã train xong, chúng ta sẽ tiến hành đánh giá mô hình trên tập test.\n",
        "\n",
        "Có nhiều độ đo để đánh giá một mô hình regression, tuy nhiên phổ biến nhất có thể kể đến:\n",
        "\n",
        "- R square/Adjusted R square\n",
        "- Mean squared error (MSE)/Root mean squared error (RMSE)\n",
        "- Mean absolute error (MAE)\n",
        "\n",
        "Trong bài này sẽ sử dụng:\n",
        "\n",
        "- R square (cao hơn là tốt hơn)\n",
        "- Mean squared error (MSE - Thấp hơn là tốt hơn)\n",
        "- Mean absolute error (MAE - Thấp hơn là tốt hơn)"
      ]
    },
    {
      "cell_type": "code",
      "metadata": {
        "colab": {
          "base_uri": "https://localhost:8080/"
        },
        "id": "VH_BeJguztRb",
        "outputId": "4c6700ef-6b36-4d5f-fca0-4b8afde8740c"
      },
      "source": [
        "print(f'Mean of test set: {np.average(y_test)}')"
      ],
      "execution_count": 76,
      "outputs": [
        {
          "output_type": "stream",
          "text": [
            "Mean of test set: 2.642811968838527\n"
          ],
          "name": "stdout"
        }
      ]
    },
    {
      "cell_type": "code",
      "metadata": {
        "id": "ER-oT5StY1_X"
      },
      "source": [
        "y_pred = model.predict(X_test)"
      ],
      "execution_count": 77,
      "outputs": []
    },
    {
      "cell_type": "code",
      "metadata": {
        "colab": {
          "base_uri": "https://localhost:8080/"
        },
        "id": "TpNsUNmIQE5s",
        "outputId": "5ee7b139-caab-44ad-8dda-4ee2055e1be9"
      },
      "source": [
        "from sklearn.metrics import mean_squared_error, mean_absolute_error, r2_score\n",
        "\n",
        "print(f'R2 score: {r2_score(y_test, y_pred)}')\n",
        "print(f'MSE: {mean_squared_error(y_test, y_pred)}')\n",
        "print(f'MAE score: {mean_absolute_error(y_test, y_pred)}')"
      ],
      "execution_count": 78,
      "outputs": [
        {
          "output_type": "stream",
          "text": [
            "R2 score: 0.9284132208349453\n",
            "MSE: 0.020664949397549082\n",
            "MAE score: 0.12271198006925235\n"
          ],
          "name": "stdout"
        }
      ]
    },
    {
      "cell_type": "markdown",
      "metadata": {
        "id": "7mly3J9qZx4p"
      },
      "source": [
        "Như vậy có thể thấy, mô hình thể hiện rất tốt trên tập test"
      ]
    },
    {
      "cell_type": "markdown",
      "metadata": {
        "id": "39c51DM2Z2rJ"
      },
      "source": [
        "# Trực quan hóa mô hình"
      ]
    },
    {
      "cell_type": "code",
      "metadata": {
        "colab": {
          "base_uri": "https://localhost:8080/",
          "height": 459
        },
        "id": "3OfDvRcmZ5bW",
        "outputId": "2a218216-2bb0-4490-aece-c621bf60e8cd"
      },
      "source": [
        "fig = plt.figure(figsize=(7, 7))\n",
        "plt.title('Biểu đồ thời gian thực thi chương trình dựa vào input size')\n",
        "plt.xlabel('Size')\n",
        "plt.ylabel('Time')\n",
        "plt.scatter(X_train, y_train)\n",
        "plt.scatter(X_test, y_test, color='red')\n",
        "fig.show()"
      ],
      "execution_count": 79,
      "outputs": [
        {
          "output_type": "display_data",
          "data": {
            "image/png": "[encoded data removed]",
            "text/plain": [
              "<Figure size 504x504 with 1 Axes>"
            ]
          },
          "metadata": {
            "tags": [],
            "needs_background": "light"
          }
        }
      ]
    },
    {
      "cell_type": "markdown",
      "metadata": {
        "id": "SQCu43ANbBnF"
      },
      "source": [
        "Có thể thấy được rằng phân bố của tập train và tập test đều gần như nằm trên cùng một đường thẳng, tuy nhiên tập test có khá nhiều outliers, khi input size càng lớn thì dữ liệu càng bị phân kỳ."
      ]
    },
    {
      "cell_type": "markdown",
      "metadata": {
        "id": "cg9ThFmAEZxv"
      },
      "source": [
        "## Model on training set"
      ]
    },
    {
      "cell_type": "code",
      "metadata": {
        "colab": {
          "base_uri": "https://localhost:8080/",
          "height": 459
        },
        "id": "sqqCMC9yZ_BI",
        "outputId": "294c1bb6-d916-406c-c805-5ceb54bab98a"
      },
      "source": [
        "fig = plt.figure(figsize=(7, 7))\n",
        "plt.title('Biểu đồ thể hiện độ fit giữa model và training set')\n",
        "plt.xlabel('Size')\n",
        "plt.ylabel('Time')\n",
        "plt.scatter(X_train, y_train)\n",
        "plt.plot(X_train, model.predict(X_train), color='red', linewidth=3)\n",
        "fig.show()"
      ],
      "execution_count": 80,
      "outputs": [
        {
          "output_type": "display_data",
          "data": {
            "image/png": "[encoded data removed]",
            "text/plain": [
              "<Figure size 504x504 with 1 Axes>"
            ]
          },
          "metadata": {
            "tags": [],
            "needs_background": "light"
          }
        }
      ]
    },
    {
      "cell_type": "markdown",
      "metadata": {
        "id": "dL2fgyI6Eeqc"
      },
      "source": [
        "## Model on test set"
      ]
    },
    {
      "cell_type": "code",
      "metadata": {
        "colab": {
          "base_uri": "https://localhost:8080/",
          "height": 459
        },
        "id": "5rL2aRWVD3JX",
        "outputId": "83da0521-250b-4e00-fc51-28897b1a0167"
      },
      "source": [
        "fig = plt.figure(figsize=(7, 7))\n",
        "plt.title('Biểu đồ thể hiện độ fit giữa model và test set')\n",
        "plt.xlabel('Size')\n",
        "plt.ylabel('Time')\n",
        "plt.scatter(X_test, y_test)\n",
        "plt.plot(X_test, y_pred, color='red', linewidth=3)\n",
        "fig.show()"
      ],
      "execution_count": 81,
      "outputs": [
        {
          "output_type": "display_data",
          "data": {
            "image/png": "[encoded data removed]",
            "text/plain": [
              "<Figure size 504x504 with 1 Axes>"
            ]
          },
          "metadata": {
            "tags": [],
            "needs_background": "light"
          }
        }
      ]
    },
    {
      "cell_type": "markdown",
      "metadata": {
        "id": "FjcatotjEH0j"
      },
      "source": [
        "Có thể thấy được rằng dù model rất fit với training set, tuy nhiên, đối với test set thì lại hơi lệch xuống phía dưới."
      ]
    },
    {
      "cell_type": "markdown",
      "metadata": {
        "id": "9xrZ6E8VEgmH"
      },
      "source": [
        "## Nhìn tổng thể model trên tập train và test"
      ]
    },
    {
      "cell_type": "code",
      "metadata": {
        "colab": {
          "base_uri": "https://localhost:8080/",
          "height": 459
        },
        "id": "qfi1tTEgEXea",
        "outputId": "324fdc8d-1582-425a-cddb-588349fdd2de"
      },
      "source": [
        "feature = np.concatenate((X_train, X_test))\n",
        "label = np.concatenate((y_train, y_test))\n",
        "\n",
        "fig = plt.figure(figsize=(7, 7))\n",
        "plt.title('Biểu đồ thể hiện độ fit giữa model và tập train, test')\n",
        "plt.xlabel('Size')\n",
        "plt.ylabel('Time')\n",
        "plt.scatter(feature, label)\n",
        "plt.plot(feature, model.predict(feature), color='red', linewidth=3)\n",
        "fig.show()"
      ],
      "execution_count": 82,
      "outputs": [
        {
          "output_type": "display_data",
          "data": {
            "image/png": "[encoded data removed]",
            "text/plain": [
              "<Figure size 504x504 with 1 Axes>"
            ]
          },
          "metadata": {
            "tags": [],
            "needs_background": "light"
          }
        }
      ]
    },
    {
      "cell_type": "markdown",
      "metadata": {
        "id": "Xnz57PeUMQZq"
      },
      "source": [
        "Sau khi trực quan hóa, có thể thấy rằng, mặc dù model rất fit với tập train, tuy nhiên với tập test thì lại có sự sai lệch.\n",
        "\n",
        "Cụ thể là giá trị mà model dự đoán hơi thấp một chút so với thực tế. Khi nhìn tổng thể sự phân bố dữ liệu thì không hẳn là đường thẳng, có sự hơi cong nhẹ lên phía trên. Do đó chúng ta cần tiến hành điều chỉnh để model có thể perform tốt hơn trên tập test."
      ]
    },
    {
      "cell_type": "markdown",
      "metadata": {
        "id": "cY-1YFApS1qt"
      },
      "source": [
        "# Hiệu chỉnh mô hình"
      ]
    },
    {
      "cell_type": "markdown",
      "metadata": {
        "id": "q7rC1DUbS9Ca"
      },
      "source": [
        "Như đã phân tích bên trên, dữ liệu có xu hướng nằm trên một đường hơi cong nhẹ lên phía trên, đây là dạng đồ thị của một hàm mũ $x^n$. Do đó, chúng ta xử lý feature X để model dễ dàng fit với nó hơn bằng cách cho X đi qua một hàm mũ hoặc ít nhất là một hàm có dạng đồ thị cong lên như vậy (ví dụ $x*log_n(x))$\n",
        "\n",
        "Chúng ta sẽ lần lượt kiểm thử qua các hàm để xem hàm nào phù hợp"
      ]
    },
    {
      "cell_type": "markdown",
      "metadata": {
        "id": "ikYJIv03VBIe"
      },
      "source": [
        "## $ x^n $"
      ]
    },
    {
      "cell_type": "markdown",
      "metadata": {
        "id": "eQ-tDTWHVKF7"
      },
      "source": [
        "Đối với hàm này thì do đồ thị cong rất ít nên n sẽ rất nhỏ, mình sẽ thử lần lượt 1.05 đến 1.2"
      ]
    },
    {
      "cell_type": "code",
      "metadata": {
        "colab": {
          "base_uri": "https://localhost:8080/",
          "height": 889
        },
        "id": "RfaSYUMwS30o",
        "outputId": "51cd1efd-555c-4070-b2ee-b70190d2d741"
      },
      "source": [
        "def new_feat(X, n):\n",
        "  return X ** n\n",
        "\n",
        "fig, axs = plt.subplots(2, 2, figsize=(10, 10))\n",
        "n = 1.05\n",
        "for i in range(len(axs)):\n",
        "  for j in range(len(axs[0])):\n",
        "    feature = np.concatenate((X_train, X_test))\n",
        "    feature = new_feat(feature, n)\n",
        "    label = np.concatenate((y_train, y_test))\n",
        "\n",
        "    new_model = LinearRegression()\n",
        "    new_model.fit(new_feat(X_train, n), y_train)\n",
        "    y_pred = new_model.predict(new_feat(X_test, n))\n",
        "\n",
        "    axs[i, j].set_title(f'n = {n}')\n",
        "    axs[i, j].scatter(feature, label)\n",
        "    axs[i, j].plot(feature, new_model.predict(feature), color='red', linewidth=3)\n",
        "\n",
        "    print(f'====== n = {n} ======')\n",
        "    print(f'R2 score: {r2_score(y_test, y_pred)}')\n",
        "    print(f'MSE: {mean_squared_error(y_test, y_pred)}')\n",
        "    print(f'MAE score: {mean_absolute_error(y_test, y_pred)}')\n",
        "\n",
        "    n += 0.05\n",
        "\n",
        "fig.show()"
      ],
      "execution_count": 83,
      "outputs": [
        {
          "output_type": "stream",
          "text": [
            "====== n = 1.05 ======\n",
            "R2 score: 0.9872407405902435\n",
            "MSE: 0.0036832143187345966\n",
            "MAE score: 0.04611593831713093\n",
            "====== n = 1.1 ======\n",
            "R2 score: 0.8847624221265409\n",
            "MSE: 0.03326562171431835\n",
            "MAE score: 0.16624932301939851\n",
            "====== n = 1.1500000000000001 ======\n",
            "R2 score: 0.590638938356372\n",
            "MSE: 0.11817022253072725\n",
            "MAE score: 0.3208310456599061\n",
            "====== n = 1.2000000000000002 ======\n",
            "R2 score: 0.0698901969224498\n",
            "MSE: 0.26849471702652805\n",
            "MAE score: 0.4846141000810583\n"
          ],
          "name": "stdout"
        },
        {
          "output_type": "display_data",
          "data": {
            "image/png": "[encoded data removed]",
            "text/plain": [
              "<Figure size 720x720 with 4 Axes>"
            ]
          },
          "metadata": {
            "tags": [],
            "needs_background": "light"
          }
        }
      ]
    },
    {
      "cell_type": "markdown",
      "metadata": {
        "id": "MTedzrz0Xq15"
      },
      "source": [
        "Nhìn vào hình trên có thể thấy được rằng, chọn n = 1.05 là phù hợp nhất vì khi n = 1.05, model vừa fit training set và vừa fit với test set. Điểm số đạt được tốt hơn hẳn lúc đầu (R2 0.987 so với 0.928 lúc đầu)\n",
        "\n",
        "**=> $x = x^{1.05}$**"
      ]
    },
    {
      "cell_type": "markdown",
      "metadata": {
        "id": "cSPN4ouZZ4wt"
      },
      "source": [
        "## x * log(x)"
      ]
    },
    {
      "cell_type": "markdown",
      "metadata": {
        "id": "Q3M9SU6PZ7jx"
      },
      "source": [
        "Tiếp theo chúng ta sẽ thử với hàm log. Trước tiên chúng ta sẽ thử với hàm log phổ biến trước (n = 2, e và 10)"
      ]
    },
    {
      "cell_type": "code",
      "metadata": {
        "colab": {
          "base_uri": "https://localhost:8080/",
          "height": 509
        },
        "id": "sZp9seryaJa3",
        "outputId": "c8015238-77e8-4d47-b2bf-a274c4bcf264"
      },
      "source": [
        "def new_feat(X):\n",
        "  return X * np.log2(X)\n",
        "\n",
        "fig = plt.figure(figsize=(7, 7))\n",
        "feature = np.concatenate((X_train, X_test))\n",
        "feature = new_feat(feature)\n",
        "label = np.concatenate((y_train, y_test))\n",
        "\n",
        "new_model = LinearRegression()\n",
        "new_model.fit(new_feat(X_train), y_train)\n",
        "y_pred = new_model.predict(new_feat(X_test))\n",
        "\n",
        "plt.title('log2')\n",
        "plt.xlabel('Size')\n",
        "plt.ylabel('Time')\n",
        "plt.scatter(feature, label)\n",
        "plt.plot(feature, new_model.predict(feature), color='red', linewidth=3)\n",
        "\n",
        "print(f'R2 score: {r2_score(y_test, y_pred)}')\n",
        "print(f'MSE: {mean_squared_error(y_test, y_pred)}')\n",
        "print(f'MAE score: {mean_absolute_error(y_test, y_pred)}')\n",
        "\n",
        "fig.show()"
      ],
      "execution_count": 84,
      "outputs": [
        {
          "output_type": "stream",
          "text": [
            "R2 score: 0.9814873856972811\n",
            "MSE: 0.005344034781896974\n",
            "MAE score: 0.05783744100902287\n"
          ],
          "name": "stdout"
        },
        {
          "output_type": "display_data",
          "data": {
            "image/png": "[encoded data removed]",
            "text/plain": [
              "<Figure size 504x504 with 1 Axes>"
            ]
          },
          "metadata": {
            "tags": [],
            "needs_background": "light"
          }
        }
      ]
    },
    {
      "cell_type": "code",
      "metadata": {
        "colab": {
          "base_uri": "https://localhost:8080/",
          "height": 509
        },
        "id": "HnVfWMF6bBlk",
        "outputId": "c5f6b0b5-af8f-439d-a57c-a2c17fdaf0e6"
      },
      "source": [
        "def new_feat(X):\n",
        "  return X * np.log(X)\n",
        "\n",
        "fig = plt.figure(figsize=(7, 7))\n",
        "feature = np.concatenate((X_train, X_test))\n",
        "feature = new_feat(feature)\n",
        "label = np.concatenate((y_train, y_test))\n",
        "\n",
        "new_model = LinearRegression()\n",
        "new_model.fit(new_feat(X_train), y_train)\n",
        "y_pred = new_model.predict(new_feat(X_test))\n",
        "\n",
        "plt.title('log2')\n",
        "plt.xlabel('Size')\n",
        "plt.ylabel('Time')\n",
        "plt.scatter(feature, label)\n",
        "plt.plot(feature, new_model.predict(feature), color='red', linewidth=3)\n",
        "\n",
        "print(f'R2 score: {r2_score(y_test, y_pred)}')\n",
        "print(f'MSE: {mean_squared_error(y_test, y_pred)}')\n",
        "print(f'MAE score: {mean_absolute_error(y_test, y_pred)}')\n",
        "\n",
        "fig.show()"
      ],
      "execution_count": 85,
      "outputs": [
        {
          "output_type": "stream",
          "text": [
            "R2 score: 0.9814873856972812\n",
            "MSE: 0.005344034781896934\n",
            "MAE score: 0.0578374410090226\n"
          ],
          "name": "stdout"
        },
        {
          "output_type": "display_data",
          "data": {
            "image/png": "[encoded data removed]",
            "text/plain": [
              "<Figure size 504x504 with 1 Axes>"
            ]
          },
          "metadata": {
            "tags": [],
            "needs_background": "light"
          }
        }
      ]
    },
    {
      "cell_type": "code",
      "metadata": {
        "colab": {
          "base_uri": "https://localhost:8080/",
          "height": 509
        },
        "id": "JPOSE1VQbJd0",
        "outputId": "1c62e6f6-35f2-457a-aa10-58e036af711d"
      },
      "source": [
        "def new_feat(X):\n",
        "  return X * np.log10(X)\n",
        "\n",
        "fig = plt.figure(figsize=(7, 7))\n",
        "feature = np.concatenate((X_train, X_test))\n",
        "feature = new_feat(feature)\n",
        "label = np.concatenate((y_train, y_test))\n",
        "\n",
        "new_model = LinearRegression()\n",
        "new_model.fit(new_feat(X_train), y_train)\n",
        "y_pred = new_model.predict(new_feat(X_test))\n",
        "\n",
        "plt.title('log2')\n",
        "plt.xlabel('Size')\n",
        "plt.ylabel('Time')\n",
        "plt.scatter(feature, label)\n",
        "plt.plot(feature, new_model.predict(feature), color='red', linewidth=3)\n",
        "\n",
        "print(f'R2 score: {r2_score(y_test, y_pred)}')\n",
        "print(f'MSE: {mean_squared_error(y_test, y_pred)}')\n",
        "print(f'MAE score: {mean_absolute_error(y_test, y_pred)}')\n",
        "\n",
        "fig.show()"
      ],
      "execution_count": 86,
      "outputs": [
        {
          "output_type": "stream",
          "text": [
            "R2 score: 0.981487385697281\n",
            "MSE: 0.00534403478189698\n",
            "MAE score: 0.05783744100902291\n"
          ],
          "name": "stdout"
        },
        {
          "output_type": "display_data",
          "data": {
            "image/png": "[encoded data removed]",
            "text/plain": [
              "<Figure size 504x504 with 1 Axes>"
            ]
          },
          "metadata": {
            "tags": [],
            "needs_background": "light"
          }
        }
      ]
    },
    {
      "cell_type": "markdown",
      "metadata": {
        "id": "c6KWQpqGbkyH"
      },
      "source": [
        "Như vậy có thể thấy được là cả 3 lần với cơ số lần lượt là 2, e và 10, model đều thể hiện rất tốt và gần như tương đồng nhau (R2 xấp xỉ 0.981)"
      ]
    },
    {
      "cell_type": "markdown",
      "metadata": {
        "id": "duMQbSQY2lMI"
      },
      "source": [
        "# Thử với Multiple Linear Regression"
      ]
    },
    {
      "cell_type": "markdown",
      "metadata": {
        "id": "ffH_ToER80LI"
      },
      "source": [
        "Có thể thấy là các phương pháp ở trên, mặc dù cho kết quả tốt nhưng trong thực tế khó mà áp dụng được. Lý do là bởi dữ liệu trong thực tế có thể có nhiều hơn 3 chiều, lúc đó chúng ta không thể visualize để xem xét được nữa. Và trong thực tế không phải lúc nào cũng may mắn tìm ra hàm số phù hợp như trong bài này.\n",
        "\n",
        "Chúng ta có một cách khác để cải thiện kết quả của model đó là áp dụng data augmentation. Trong bài toán này, thay vì chỉ có 1 feature, chúng ta sẽ dựa trên feature đó để tạo ra các feature khác cho dữ liệu.\n",
        "\n",
        "Vì đây là bài toán dự đoán thời gian chạy của chương trình, nên một số hàm có thể được áp dụng để tăng cường dữ liệu như $x^2, log(x), x*log(x)$."
      ]
    },
    {
      "cell_type": "code",
      "metadata": {
        "colab": {
          "base_uri": "https://localhost:8080/"
        },
        "id": "yFnQIeHA5y1L",
        "outputId": "df3d8850-a906-4e9d-c65c-743beca1530d"
      },
      "source": [
        "def new_feat(X):\n",
        "  return np.hstack([X, X**1.05, np.log(X), X * np.log(X)])\n",
        "\n",
        "feature = np.concatenate((X_train, X_test))\n",
        "feature = new_feat(feature)\n",
        "label = np.concatenate((y_train, y_test))\n",
        "\n",
        "new_model = LinearRegression()\n",
        "new_model.fit(new_feat(X_train), y_train)\n",
        "y_pred = new_model.predict(new_feat(X_test))\n",
        "\n",
        "print(f'R2 score: {r2_score(y_test, y_pred)}')\n",
        "print(f'MSE: {mean_squared_error(y_test, y_pred)}')\n",
        "print(f'MAE score: {mean_absolute_error(y_test, y_pred)}')"
      ],
      "execution_count": 87,
      "outputs": [
        {
          "output_type": "stream",
          "text": [
            "R2 score: 0.9853605850720809\n",
            "MSE: 0.004225958650795829\n",
            "MAE score: 0.05029273043698385\n"
          ],
          "name": "stdout"
        }
      ]
    },
    {
      "cell_type": "markdown",
      "metadata": {
        "id": "qQA6l-qk90Tz"
      },
      "source": [
        "Như chúng ta có thể thấy, kết quả của model có cải thiện so với lúc đầu. Tuy rằng không bằng khi ta cho X đi qua hàm $f(x) = n^{1.05}$, nhưng đây là cách tổng quát nhất và tự động, model có khả năng tự học và tìm ra tham số mô hình phù hợp, nên được áp dụng."
      ]
    },
    {
      "cell_type": "markdown",
      "metadata": {
        "id": "tj1L8cFycTal"
      },
      "source": [
        "# Kết luận\n",
        "\n",
        "Như vậy, sau khi phân tích và thực nghiệm nhiều lần, chúng ta có thể kết luận rằng cho X đi qua hàm $f(x) = x^{1.05}$ là tốt nhất, đạt điểm số tốt nhất với R2 = 0.987, MSE = 0.0037 và MAE = 0.046.\n",
        "\n",
        "Khi áp dụng multiple linear regression bằng cách tăng cường dữ liệu, biến X chỉ từ 1 feature thành nhiều feature, model có thể tự mình học và cải thiện độ chính xác của chính nó."
      ]
    }
  ]
}